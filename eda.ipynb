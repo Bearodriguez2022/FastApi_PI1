{
  "cells": [
    {
      "cell_type": "markdown",
      "metadata": {
        "id": "view-in-github",
        "colab_type": "text"
      },
      "source": [
        "<a href=\"https://colab.research.google.com/github/Bearodriguez2022/FastApi_PI1/blob/master/eda.ipynb\" target=\"_parent\"><img src=\"https://colab.research.google.com/assets/colab-badge.svg\" alt=\"Open In Colab\"/></a>"
      ]
    },
    {
      "cell_type": "code",
      "execution_count": 1,
      "metadata": {
        "id": "8d4TeO-0o1tG"
      },
      "outputs": [],
      "source": [
        "import pandas as pd"
      ]
    },
    {
      "cell_type": "markdown",
      "metadata": {
        "id": "8_cNiMGro1tf"
      },
      "source": [
        "Ingesta de datos:"
      ]
    },
    {
      "cell_type": "code",
      "source": [
        "from google.colab import drive\n",
        "drive.mount('/content/drive')"
      ],
      "metadata": {
        "colab": {
          "base_uri": "https://localhost:8080/"
        },
        "id": "RC6wKpw0pIs8",
        "outputId": "ab447f93-a250-450f-a16e-88f56283cc32"
      },
      "execution_count": 2,
      "outputs": [
        {
          "output_type": "stream",
          "name": "stdout",
          "text": [
            "Mounted at /content/drive\n"
          ]
        }
      ]
    },
    {
      "cell_type": "code",
      "execution_count": 3,
      "metadata": {
        "id": "ay2wfcfbo1th"
      },
      "outputs": [],
      "source": [
        "amazon = pd.read_csv('/content/drive/MyDrive/PI_1.2/Data1.2/amazon_prime_titles.csv')"
      ]
    },
    {
      "cell_type": "code",
      "execution_count": 4,
      "metadata": {
        "colab": {
          "base_uri": "https://localhost:8080/"
        },
        "id": "tajbi_hso1tj",
        "outputId": "cdf58864-7fb7-49d1-aee9-9e844925bc01"
      },
      "outputs": [
        {
          "output_type": "execute_result",
          "data": {
            "text/plain": [
              "0"
            ]
          },
          "metadata": {},
          "execution_count": 4
        }
      ],
      "source": [
        "amazon['duration'].isna().sum()"
      ]
    },
    {
      "cell_type": "markdown",
      "metadata": {
        "id": "dkWYnHAyo1tr"
      },
      "source": [
        "La columna duration se divide en 'duration_int', 'duration_type':"
      ]
    },
    {
      "cell_type": "code",
      "execution_count": 5,
      "metadata": {
        "id": "9zLY1ozxo1tv"
      },
      "outputs": [],
      "source": [
        "amazon[['duration_int', 'duration_type']] = amazon['duration'].str.split(' ', expand=True)"
      ]
    },
    {
      "cell_type": "code",
      "execution_count": 6,
      "metadata": {
        "colab": {
          "base_uri": "https://localhost:8080/"
        },
        "id": "jIRi5TOFo1ty",
        "outputId": "2ebfe7c3-87d5-446b-8b25-5fc599395f92"
      },
      "outputs": [
        {
          "output_type": "execute_result",
          "data": {
            "text/plain": [
              "dtype('O')"
            ]
          },
          "metadata": {},
          "execution_count": 6
        }
      ],
      "source": [
        "amazon['duration_int'].dtype"
      ]
    },
    {
      "cell_type": "markdown",
      "metadata": {
        "id": "mVUQ8CNao1t2"
      },
      "source": [
        "Las nuevas columnas son de tipo 'objet', las cambio a 'int32' y 'str' respectivamente"
      ]
    },
    {
      "cell_type": "code",
      "execution_count": 7,
      "metadata": {
        "id": "TWwAyfQco1t4"
      },
      "outputs": [],
      "source": [
        "amazon['duration_int'] = amazon['duration_int'].astype('int32')"
      ]
    },
    {
      "cell_type": "code",
      "execution_count": 8,
      "metadata": {
        "id": "o3SNo_QAo1t6"
      },
      "outputs": [],
      "source": [
        "amazon['duration_type'] = amazon['duration_type'].astype('str')"
      ]
    },
    {
      "cell_type": "markdown",
      "metadata": {
        "id": "6qio23ujo1t8"
      },
      "source": [
        "Repito los pasos de ingesta de datos, división de columna 'duration' y transformación de datos 'o' a 'int' y 'str' en cada uno de los archivos de plataformas"
      ]
    },
    {
      "cell_type": "code",
      "execution_count": 9,
      "metadata": {
        "id": "5xquJBdho1t-"
      },
      "outputs": [],
      "source": [
        "disney = pd.read_csv('/content/drive/MyDrive/PI_1.2/Data1.2/disney_plus_titles.csv')"
      ]
    },
    {
      "cell_type": "code",
      "execution_count": 11,
      "metadata": {
        "id": "gyxbCTYDo1uA",
        "colab": {
          "base_uri": "https://localhost:8080/"
        },
        "outputId": "395558ae-5547-4b33-c55b-2b42b0ee005e"
      },
      "outputs": [
        {
          "output_type": "stream",
          "name": "stdout",
          "text": [
            "<class 'pandas.core.frame.DataFrame'>\n",
            "RangeIndex: 1450 entries, 0 to 1449\n",
            "Data columns (total 12 columns):\n",
            " #   Column        Non-Null Count  Dtype \n",
            "---  ------        --------------  ----- \n",
            " 0   show_id       1450 non-null   object\n",
            " 1   type          1450 non-null   object\n",
            " 2   title         1450 non-null   object\n",
            " 3   director      977 non-null    object\n",
            " 4   cast          1260 non-null   object\n",
            " 5   country       1231 non-null   object\n",
            " 6   date_added    1447 non-null   object\n",
            " 7   release_year  1450 non-null   int64 \n",
            " 8   rating        1447 non-null   object\n",
            " 9   duration      1450 non-null   object\n",
            " 10  listed_in     1450 non-null   object\n",
            " 11  description   1450 non-null   object\n",
            "dtypes: int64(1), object(11)\n",
            "memory usage: 136.1+ KB\n"
          ]
        }
      ],
      "source": [
        "disney.info()"
      ]
    },
    {
      "cell_type": "code",
      "execution_count": 12,
      "metadata": {
        "id": "I_4rFU32o1uC"
      },
      "outputs": [],
      "source": [
        "disney[['duration_int', 'duration_type']] = disney['duration'].str.split(' ', expand=True)"
      ]
    },
    {
      "cell_type": "code",
      "execution_count": 13,
      "metadata": {
        "id": "OuqTiT9ro1uE"
      },
      "outputs": [],
      "source": [
        "disney['duration_int'] = disney['duration_int'].astype('int32')\n"
      ]
    },
    {
      "cell_type": "code",
      "execution_count": 14,
      "metadata": {
        "id": "SH-2aVTMo1uI"
      },
      "outputs": [],
      "source": [
        "disney['duration_type'] = disney['duration_type'].astype('str')"
      ]
    },
    {
      "cell_type": "code",
      "execution_count": 15,
      "metadata": {
        "id": "B6OWllEbo1uJ"
      },
      "outputs": [],
      "source": [
        "hulu = pd.read_csv('/content/drive/MyDrive/PI_1.2/Data1.2/hulu_titles.csv')"
      ]
    },
    {
      "cell_type": "code",
      "execution_count": 16,
      "metadata": {
        "id": "pwU1r48po1uL",
        "colab": {
          "base_uri": "https://localhost:8080/"
        },
        "outputId": "2c42a45e-6b08-46f8-d993-33ec6b520132"
      },
      "outputs": [
        {
          "output_type": "execute_result",
          "data": {
            "text/plain": [
              "show_id            0\n",
              "type               0\n",
              "title              0\n",
              "director        3070\n",
              "cast            3073\n",
              "country         1453\n",
              "date_added        28\n",
              "release_year       0\n",
              "rating           520\n",
              "duration         479\n",
              "listed_in          0\n",
              "description        4\n",
              "dtype: int64"
            ]
          },
          "metadata": {},
          "execution_count": 16
        }
      ],
      "source": [
        "hulu.isna().sum()"
      ]
    },
    {
      "cell_type": "code",
      "execution_count": 17,
      "metadata": {
        "id": "e4nw7mhzo1uN",
        "colab": {
          "base_uri": "https://localhost:8080/",
          "height": 814
        },
        "outputId": "0fdd7a6e-024e-40c4-97af-a041178ed43b"
      },
      "outputs": [
        {
          "output_type": "execute_result",
          "data": {
            "text/plain": [
              "     show_id     type                           title director  cast  \\\n",
              "0         s1    Movie  Ricky Velez: Here's Everything        0   0.0   \n",
              "1         s2    Movie                    Silent Night        0   0.0   \n",
              "2         s3    Movie                    The Marksman        0   0.0   \n",
              "3         s4    Movie                            Gaia        0   0.0   \n",
              "4         s5    Movie                        Settlers        0   0.0   \n",
              "...      ...      ...                             ...      ...   ...   \n",
              "3068   s3069  TV Show  Star Trek: The Original Series        0   0.0   \n",
              "3069   s3070  TV Show              Star Trek: Voyager        0   0.0   \n",
              "3070   s3071  TV Show                       The Fades        0   0.0   \n",
              "3071   s3072  TV Show               The Twilight Zone        0   0.0   \n",
              "3072   s3073  TV Show             Tokyo Magnitude 8.0        0   0.0   \n",
              "\n",
              "             country        date_added  release_year rating   duration  \\\n",
              "0                  0  October 24, 2021          2021  TV-MA          0   \n",
              "1                  0  October 23, 2021          2020      0     94 min   \n",
              "2                  0  October 23, 2021          2021  PG-13    108 min   \n",
              "3                  0  October 22, 2021          2021      R     97 min   \n",
              "4                  0  October 22, 2021          2021      0    104 min   \n",
              "...              ...               ...           ...    ...        ...   \n",
              "3068   United States                 0          1966  TV-PG  3 Seasons   \n",
              "3069   United States                 0          1997  TV-PG  7 Seasons   \n",
              "3070  United Kingdom                 0          2011  TV-14   1 Season   \n",
              "3071   United States                 0          1959  TV-PG  5 Seasons   \n",
              "3072           Japan                 0          2009  TV-14   1 Season   \n",
              "\n",
              "                                   listed_in  \\\n",
              "0                           Comedy, Stand Up   \n",
              "1                     Crime, Drama, Thriller   \n",
              "2                           Action, Thriller   \n",
              "3                                     Horror   \n",
              "4                  Science Fiction, Thriller   \n",
              "...                                      ...   \n",
              "3068             Action, Adventure, Classics   \n",
              "3069      Action, Adventure, Science Fiction   \n",
              "3070  Horror, International, Science Fiction   \n",
              "3071     Classics, Science Fiction, Thriller   \n",
              "3072             Anime, Drama, International   \n",
              "\n",
              "                                            description  \n",
              "0     ​Comedian Ricky Velez bares it all with his ho...  \n",
              "1     Mark, a low end South London hitman recently r...  \n",
              "2     A hardened Arizona rancher tries to protect an...  \n",
              "3     A forest ranger and two survivalists with a cu...  \n",
              "4     Mankind's earliest settlers on the Martian fro...  \n",
              "...                                                 ...  \n",
              "3068  The 23rd century adventures of Captain James T...  \n",
              "3069  Catapulted into the distant sector of the gala...  \n",
              "3070  Seventeen-year-old Paul is haunted by apocalyp...  \n",
              "3071  Rod Serling's seminal anthology series focused...  \n",
              "3072  The devastation is unleashed in the span of se...  \n",
              "\n",
              "[3073 rows x 12 columns]"
            ],
            "text/html": [
              "\n",
              "  <div id=\"df-aa88dc2a-29c7-4ed9-adab-315e0b04e498\">\n",
              "    <div class=\"colab-df-container\">\n",
              "      <div>\n",
              "<style scoped>\n",
              "    .dataframe tbody tr th:only-of-type {\n",
              "        vertical-align: middle;\n",
              "    }\n",
              "\n",
              "    .dataframe tbody tr th {\n",
              "        vertical-align: top;\n",
              "    }\n",
              "\n",
              "    .dataframe thead th {\n",
              "        text-align: right;\n",
              "    }\n",
              "</style>\n",
              "<table border=\"1\" class=\"dataframe\">\n",
              "  <thead>\n",
              "    <tr style=\"text-align: right;\">\n",
              "      <th></th>\n",
              "      <th>show_id</th>\n",
              "      <th>type</th>\n",
              "      <th>title</th>\n",
              "      <th>director</th>\n",
              "      <th>cast</th>\n",
              "      <th>country</th>\n",
              "      <th>date_added</th>\n",
              "      <th>release_year</th>\n",
              "      <th>rating</th>\n",
              "      <th>duration</th>\n",
              "      <th>listed_in</th>\n",
              "      <th>description</th>\n",
              "    </tr>\n",
              "  </thead>\n",
              "  <tbody>\n",
              "    <tr>\n",
              "      <th>0</th>\n",
              "      <td>s1</td>\n",
              "      <td>Movie</td>\n",
              "      <td>Ricky Velez: Here's Everything</td>\n",
              "      <td>0</td>\n",
              "      <td>0.0</td>\n",
              "      <td>0</td>\n",
              "      <td>October 24, 2021</td>\n",
              "      <td>2021</td>\n",
              "      <td>TV-MA</td>\n",
              "      <td>0</td>\n",
              "      <td>Comedy, Stand Up</td>\n",
              "      <td>​Comedian Ricky Velez bares it all with his ho...</td>\n",
              "    </tr>\n",
              "    <tr>\n",
              "      <th>1</th>\n",
              "      <td>s2</td>\n",
              "      <td>Movie</td>\n",
              "      <td>Silent Night</td>\n",
              "      <td>0</td>\n",
              "      <td>0.0</td>\n",
              "      <td>0</td>\n",
              "      <td>October 23, 2021</td>\n",
              "      <td>2020</td>\n",
              "      <td>0</td>\n",
              "      <td>94 min</td>\n",
              "      <td>Crime, Drama, Thriller</td>\n",
              "      <td>Mark, a low end South London hitman recently r...</td>\n",
              "    </tr>\n",
              "    <tr>\n",
              "      <th>2</th>\n",
              "      <td>s3</td>\n",
              "      <td>Movie</td>\n",
              "      <td>The Marksman</td>\n",
              "      <td>0</td>\n",
              "      <td>0.0</td>\n",
              "      <td>0</td>\n",
              "      <td>October 23, 2021</td>\n",
              "      <td>2021</td>\n",
              "      <td>PG-13</td>\n",
              "      <td>108 min</td>\n",
              "      <td>Action, Thriller</td>\n",
              "      <td>A hardened Arizona rancher tries to protect an...</td>\n",
              "    </tr>\n",
              "    <tr>\n",
              "      <th>3</th>\n",
              "      <td>s4</td>\n",
              "      <td>Movie</td>\n",
              "      <td>Gaia</td>\n",
              "      <td>0</td>\n",
              "      <td>0.0</td>\n",
              "      <td>0</td>\n",
              "      <td>October 22, 2021</td>\n",
              "      <td>2021</td>\n",
              "      <td>R</td>\n",
              "      <td>97 min</td>\n",
              "      <td>Horror</td>\n",
              "      <td>A forest ranger and two survivalists with a cu...</td>\n",
              "    </tr>\n",
              "    <tr>\n",
              "      <th>4</th>\n",
              "      <td>s5</td>\n",
              "      <td>Movie</td>\n",
              "      <td>Settlers</td>\n",
              "      <td>0</td>\n",
              "      <td>0.0</td>\n",
              "      <td>0</td>\n",
              "      <td>October 22, 2021</td>\n",
              "      <td>2021</td>\n",
              "      <td>0</td>\n",
              "      <td>104 min</td>\n",
              "      <td>Science Fiction, Thriller</td>\n",
              "      <td>Mankind's earliest settlers on the Martian fro...</td>\n",
              "    </tr>\n",
              "    <tr>\n",
              "      <th>...</th>\n",
              "      <td>...</td>\n",
              "      <td>...</td>\n",
              "      <td>...</td>\n",
              "      <td>...</td>\n",
              "      <td>...</td>\n",
              "      <td>...</td>\n",
              "      <td>...</td>\n",
              "      <td>...</td>\n",
              "      <td>...</td>\n",
              "      <td>...</td>\n",
              "      <td>...</td>\n",
              "      <td>...</td>\n",
              "    </tr>\n",
              "    <tr>\n",
              "      <th>3068</th>\n",
              "      <td>s3069</td>\n",
              "      <td>TV Show</td>\n",
              "      <td>Star Trek: The Original Series</td>\n",
              "      <td>0</td>\n",
              "      <td>0.0</td>\n",
              "      <td>United States</td>\n",
              "      <td>0</td>\n",
              "      <td>1966</td>\n",
              "      <td>TV-PG</td>\n",
              "      <td>3 Seasons</td>\n",
              "      <td>Action, Adventure, Classics</td>\n",
              "      <td>The 23rd century adventures of Captain James T...</td>\n",
              "    </tr>\n",
              "    <tr>\n",
              "      <th>3069</th>\n",
              "      <td>s3070</td>\n",
              "      <td>TV Show</td>\n",
              "      <td>Star Trek: Voyager</td>\n",
              "      <td>0</td>\n",
              "      <td>0.0</td>\n",
              "      <td>United States</td>\n",
              "      <td>0</td>\n",
              "      <td>1997</td>\n",
              "      <td>TV-PG</td>\n",
              "      <td>7 Seasons</td>\n",
              "      <td>Action, Adventure, Science Fiction</td>\n",
              "      <td>Catapulted into the distant sector of the gala...</td>\n",
              "    </tr>\n",
              "    <tr>\n",
              "      <th>3070</th>\n",
              "      <td>s3071</td>\n",
              "      <td>TV Show</td>\n",
              "      <td>The Fades</td>\n",
              "      <td>0</td>\n",
              "      <td>0.0</td>\n",
              "      <td>United Kingdom</td>\n",
              "      <td>0</td>\n",
              "      <td>2011</td>\n",
              "      <td>TV-14</td>\n",
              "      <td>1 Season</td>\n",
              "      <td>Horror, International, Science Fiction</td>\n",
              "      <td>Seventeen-year-old Paul is haunted by apocalyp...</td>\n",
              "    </tr>\n",
              "    <tr>\n",
              "      <th>3071</th>\n",
              "      <td>s3072</td>\n",
              "      <td>TV Show</td>\n",
              "      <td>The Twilight Zone</td>\n",
              "      <td>0</td>\n",
              "      <td>0.0</td>\n",
              "      <td>United States</td>\n",
              "      <td>0</td>\n",
              "      <td>1959</td>\n",
              "      <td>TV-PG</td>\n",
              "      <td>5 Seasons</td>\n",
              "      <td>Classics, Science Fiction, Thriller</td>\n",
              "      <td>Rod Serling's seminal anthology series focused...</td>\n",
              "    </tr>\n",
              "    <tr>\n",
              "      <th>3072</th>\n",
              "      <td>s3073</td>\n",
              "      <td>TV Show</td>\n",
              "      <td>Tokyo Magnitude 8.0</td>\n",
              "      <td>0</td>\n",
              "      <td>0.0</td>\n",
              "      <td>Japan</td>\n",
              "      <td>0</td>\n",
              "      <td>2009</td>\n",
              "      <td>TV-14</td>\n",
              "      <td>1 Season</td>\n",
              "      <td>Anime, Drama, International</td>\n",
              "      <td>The devastation is unleashed in the span of se...</td>\n",
              "    </tr>\n",
              "  </tbody>\n",
              "</table>\n",
              "<p>3073 rows × 12 columns</p>\n",
              "</div>\n",
              "      <button class=\"colab-df-convert\" onclick=\"convertToInteractive('df-aa88dc2a-29c7-4ed9-adab-315e0b04e498')\"\n",
              "              title=\"Convert this dataframe to an interactive table.\"\n",
              "              style=\"display:none;\">\n",
              "        \n",
              "  <svg xmlns=\"http://www.w3.org/2000/svg\" height=\"24px\"viewBox=\"0 0 24 24\"\n",
              "       width=\"24px\">\n",
              "    <path d=\"M0 0h24v24H0V0z\" fill=\"none\"/>\n",
              "    <path d=\"M18.56 5.44l.94 2.06.94-2.06 2.06-.94-2.06-.94-.94-2.06-.94 2.06-2.06.94zm-11 1L8.5 8.5l.94-2.06 2.06-.94-2.06-.94L8.5 2.5l-.94 2.06-2.06.94zm10 10l.94 2.06.94-2.06 2.06-.94-2.06-.94-.94-2.06-.94 2.06-2.06.94z\"/><path d=\"M17.41 7.96l-1.37-1.37c-.4-.4-.92-.59-1.43-.59-.52 0-1.04.2-1.43.59L10.3 9.45l-7.72 7.72c-.78.78-.78 2.05 0 2.83L4 21.41c.39.39.9.59 1.41.59.51 0 1.02-.2 1.41-.59l7.78-7.78 2.81-2.81c.8-.78.8-2.07 0-2.86zM5.41 20L4 18.59l7.72-7.72 1.47 1.35L5.41 20z\"/>\n",
              "  </svg>\n",
              "      </button>\n",
              "      \n",
              "  <style>\n",
              "    .colab-df-container {\n",
              "      display:flex;\n",
              "      flex-wrap:wrap;\n",
              "      gap: 12px;\n",
              "    }\n",
              "\n",
              "    .colab-df-convert {\n",
              "      background-color: #E8F0FE;\n",
              "      border: none;\n",
              "      border-radius: 50%;\n",
              "      cursor: pointer;\n",
              "      display: none;\n",
              "      fill: #1967D2;\n",
              "      height: 32px;\n",
              "      padding: 0 0 0 0;\n",
              "      width: 32px;\n",
              "    }\n",
              "\n",
              "    .colab-df-convert:hover {\n",
              "      background-color: #E2EBFA;\n",
              "      box-shadow: 0px 1px 2px rgba(60, 64, 67, 0.3), 0px 1px 3px 1px rgba(60, 64, 67, 0.15);\n",
              "      fill: #174EA6;\n",
              "    }\n",
              "\n",
              "    [theme=dark] .colab-df-convert {\n",
              "      background-color: #3B4455;\n",
              "      fill: #D2E3FC;\n",
              "    }\n",
              "\n",
              "    [theme=dark] .colab-df-convert:hover {\n",
              "      background-color: #434B5C;\n",
              "      box-shadow: 0px 1px 3px 1px rgba(0, 0, 0, 0.15);\n",
              "      filter: drop-shadow(0px 1px 2px rgba(0, 0, 0, 0.3));\n",
              "      fill: #FFFFFF;\n",
              "    }\n",
              "  </style>\n",
              "\n",
              "      <script>\n",
              "        const buttonEl =\n",
              "          document.querySelector('#df-aa88dc2a-29c7-4ed9-adab-315e0b04e498 button.colab-df-convert');\n",
              "        buttonEl.style.display =\n",
              "          google.colab.kernel.accessAllowed ? 'block' : 'none';\n",
              "\n",
              "        async function convertToInteractive(key) {\n",
              "          const element = document.querySelector('#df-aa88dc2a-29c7-4ed9-adab-315e0b04e498');\n",
              "          const dataTable =\n",
              "            await google.colab.kernel.invokeFunction('convertToInteractive',\n",
              "                                                     [key], {});\n",
              "          if (!dataTable) return;\n",
              "\n",
              "          const docLinkHtml = 'Like what you see? Visit the ' +\n",
              "            '<a target=\"_blank\" href=https://colab.research.google.com/notebooks/data_table.ipynb>data table notebook</a>'\n",
              "            + ' to learn more about interactive tables.';\n",
              "          element.innerHTML = '';\n",
              "          dataTable['output_type'] = 'display_data';\n",
              "          await google.colab.output.renderOutput(dataTable, element);\n",
              "          const docLink = document.createElement('div');\n",
              "          docLink.innerHTML = docLinkHtml;\n",
              "          element.appendChild(docLink);\n",
              "        }\n",
              "      </script>\n",
              "    </div>\n",
              "  </div>\n",
              "  "
            ]
          },
          "metadata": {},
          "execution_count": 17
        }
      ],
      "source": [
        "hulu.fillna(0)"
      ]
    },
    {
      "cell_type": "code",
      "execution_count": 18,
      "metadata": {
        "id": "IZrOAgfvo1uO"
      },
      "outputs": [],
      "source": [
        "hulu[['duration_int', 'duration_type']] =hulu['duration'].str.split(' ', expand=True)"
      ]
    },
    {
      "cell_type": "code",
      "execution_count": 19,
      "metadata": {
        "id": "rU4cXtTdo1uP"
      },
      "outputs": [],
      "source": [
        "hulu['duration_int'] = hulu['duration_int'].astype('Int32')"
      ]
    },
    {
      "cell_type": "code",
      "execution_count": 20,
      "metadata": {
        "id": "1_H9PN3go1uR"
      },
      "outputs": [],
      "source": [
        "hulu['duration_type'] = hulu['duration_type'].astype('str')"
      ]
    },
    {
      "cell_type": "code",
      "execution_count": 21,
      "metadata": {
        "id": "WNzizpGUo1uS"
      },
      "outputs": [],
      "source": [
        "netflix = pd.read_csv('/content/drive/MyDrive/PI_1.2/Data1.2/netflix_titles.csv')"
      ]
    },
    {
      "cell_type": "code",
      "execution_count": 22,
      "metadata": {
        "id": "YF7WCn8io1uT",
        "colab": {
          "base_uri": "https://localhost:8080/"
        },
        "outputId": "686b5aba-94bc-4fae-fb0c-95425fd39549"
      },
      "outputs": [
        {
          "output_type": "stream",
          "name": "stdout",
          "text": [
            "<class 'pandas.core.frame.DataFrame'>\n",
            "RangeIndex: 8807 entries, 0 to 8806\n",
            "Data columns (total 12 columns):\n",
            " #   Column        Non-Null Count  Dtype \n",
            "---  ------        --------------  ----- \n",
            " 0   show_id       8807 non-null   object\n",
            " 1   type          8807 non-null   object\n",
            " 2   title         8807 non-null   object\n",
            " 3   director      6173 non-null   object\n",
            " 4   cast          7982 non-null   object\n",
            " 5   country       7976 non-null   object\n",
            " 6   date_added    8797 non-null   object\n",
            " 7   release_year  8807 non-null   int64 \n",
            " 8   rating        8803 non-null   object\n",
            " 9   duration      8804 non-null   object\n",
            " 10  listed_in     8807 non-null   object\n",
            " 11  description   8807 non-null   object\n",
            "dtypes: int64(1), object(11)\n",
            "memory usage: 825.8+ KB\n"
          ]
        }
      ],
      "source": [
        "netflix.info()"
      ]
    },
    {
      "cell_type": "code",
      "execution_count": 23,
      "metadata": {
        "id": "-QeOteQ8o1uU"
      },
      "outputs": [],
      "source": [
        "netflix['duration'] =netflix['duration'].dropna()"
      ]
    },
    {
      "cell_type": "code",
      "execution_count": 24,
      "metadata": {
        "id": "jvmoYdpmo1uX"
      },
      "outputs": [],
      "source": [
        "netflix[['duration_int', 'duration_type']] =netflix['duration'].str.split(' ', expand=True)"
      ]
    },
    {
      "cell_type": "code",
      "execution_count": 25,
      "metadata": {
        "id": "j5JMn1Dio1uZ"
      },
      "outputs": [],
      "source": [
        "netflix['duration_int'] =netflix['duration_int'].fillna(0).astype('int32')"
      ]
    },
    {
      "cell_type": "code",
      "execution_count": 26,
      "metadata": {
        "id": "zqjY_Y7io1ua"
      },
      "outputs": [],
      "source": [
        "netflix['duration_type'] = netflix['duration_type'].astype('str')"
      ]
    },
    {
      "cell_type": "markdown",
      "metadata": {
        "id": "2MKc8MSho1ub"
      },
      "source": [
        "Antes de concatenar los df concidero poner el nombre a cada plataforma para una mejor identificación"
      ]
    },
    {
      "cell_type": "code",
      "execution_count": 27,
      "metadata": {
        "id": "5mRNrQoyo1uc"
      },
      "outputs": [],
      "source": [
        "amazon['plataforma'] = 'amazon'\n",
        "disney['plataforma'] = 'disney'\n",
        "hulu['plataforma'] = 'hulu'\n",
        "netflix['plataforma'] = 'netflix'"
      ]
    },
    {
      "cell_type": "markdown",
      "metadata": {
        "id": "YySQAWXMo1ue"
      },
      "source": [
        "Consignas a cumplir:\n",
        "*Generar campo id: Cada id se compondrá de la primera letra del nombre de la plataforma, seguido del show_id ya presente en los datasets (ejemplo para títulos de Amazon = as123)"
      ]
    },
    {
      "cell_type": "code",
      "execution_count": 28,
      "metadata": {
        "id": "HH4fxQggo1uf"
      },
      "outputs": [],
      "source": [
        "amazon['id'] = 'a' + amazon['show_id']\n",
        "disney['id'] = 'd' + disney['show_id']\n",
        "hulu['id'] = 'h' + hulu['show_id']\n",
        "netflix['id'] = 'n' + netflix['show_id']"
      ]
    },
    {
      "cell_type": "markdown",
      "metadata": {
        "id": "hDXQDA5yo1ui"
      },
      "source": [
        "Ahora concateno los df para poder trabajar con ellos de forma mas práctica"
      ]
    },
    {
      "cell_type": "code",
      "execution_count": 29,
      "metadata": {
        "id": "cXBt17voo1uj"
      },
      "outputs": [],
      "source": [
        "streaming = pd.concat([amazon, disney, hulu,netflix])"
      ]
    },
    {
      "cell_type": "markdown",
      "metadata": {
        "id": "FH6lW6oDo1uj"
      },
      "source": [
        "*Los valores nulos del campo rating deberán reemplazarse por el string “G” (corresponde al maturity rating: “general for all audiences”)\n",
        "\n"
      ]
    },
    {
      "cell_type": "code",
      "execution_count": 30,
      "metadata": {
        "id": "2gIqvsPjo1ul"
      },
      "outputs": [],
      "source": [
        "streaming['rating'] = streaming['rating'].fillna('G')"
      ]
    },
    {
      "cell_type": "markdown",
      "metadata": {
        "id": "pBaxxM0Oo1um"
      },
      "source": [
        "*De haber fechas, deberán tener el formato AAAA-mm-dd"
      ]
    },
    {
      "cell_type": "code",
      "execution_count": 31,
      "metadata": {
        "id": "C4nOIe-Oo1un"
      },
      "outputs": [],
      "source": [
        "streaming['date_added'] = pd.to_datetime(streaming['date_added'])"
      ]
    },
    {
      "cell_type": "markdown",
      "metadata": {
        "id": "bAYfDpyso1uo"
      },
      "source": [
        "*Los campos de texto deberán estar en minúsculas, sin excepciones"
      ]
    },
    {
      "cell_type": "code",
      "execution_count": 32,
      "metadata": {
        "id": "PXOQ7ykdo1uo"
      },
      "outputs": [],
      "source": [
        "streaming = streaming.apply(lambda x: x.astype(str).str.lower() if x.dtype == 'object' else x)"
      ]
    },
    {
      "cell_type": "markdown",
      "metadata": {
        "id": "63MM_3__o1up"
      },
      "source": [
        "*El campo duration debe convertirse en dos campos: duration_int y duration_type. El primero será un integer y el segundo un string indicando la unidad de medición de duración: min (minutos) o season (temporadas).Este paso lo realice en cada df por separado."
      ]
    },
    {
      "cell_type": "code",
      "execution_count": 33,
      "metadata": {
        "id": "wccK795go1uq",
        "colab": {
          "base_uri": "https://localhost:8080/"
        },
        "outputId": "add3f76a-e90c-4af1-e44f-3ce5ce4fc555"
      },
      "outputs": [
        {
          "output_type": "execute_result",
          "data": {
            "text/plain": [
              "Index(['show_id', 'type', 'title', 'director', 'cast', 'country', 'date_added',\n",
              "       'release_year', 'rating', 'duration', 'listed_in', 'description',\n",
              "       'duration_int', 'duration_type', 'plataforma', 'id'],\n",
              "      dtype='object')"
            ]
          },
          "metadata": {},
          "execution_count": 33
        }
      ],
      "source": [
        "streaming.columns"
      ]
    },
    {
      "cell_type": "code",
      "source": [
        "#aca convierto a csv \n",
        "streaming.to_csv('datos.csv', sep=',', encoding='utf-8', index=False)"
      ],
      "metadata": {
        "id": "doATxr3FRUMT"
      },
      "execution_count": 34,
      "outputs": []
    },
    {
      "cell_type": "markdown",
      "metadata": {
        "id": "ATOsGQBTo1us"
      },
      "source": [
        "Aqui concateno rating "
      ]
    },
    {
      "cell_type": "code",
      "execution_count": 35,
      "metadata": {
        "id": "fvWtPRfBo1ut"
      },
      "outputs": [],
      "source": [
        "r_1 = pd.read_csv('/content/drive/MyDrive/PI_1.2/Data1.2/ratings/1.csv') \n",
        "r_2 = pd.read_csv('/content/drive/MyDrive/PI_1.2/Data1.2/ratings/2.csv')\n",
        "r_3 = pd.read_csv('/content/drive/MyDrive/PI_1.2/Data1.2/ratings/3.csv')\n",
        "r_4 = pd.read_csv('/content/drive/MyDrive/PI_1.2/Data1.2/ratings/4.csv')\n",
        "r_5 = pd.read_csv('/content/drive/MyDrive/PI_1.2/Data1.2/ratings/5.csv')\n",
        "r_6 = pd.read_csv('/content/drive/MyDrive/PI_1.2/Data1.2/ratings/6.csv')\n",
        "r_7 = pd.read_csv('/content/drive/MyDrive/PI_1.2/Data1.2/ratings/7.csv')\n",
        "r_8 = pd.read_csv('/content/drive/MyDrive/PI_1.2/Data1.2/ratings/8.csv')"
      ]
    },
    {
      "cell_type": "code",
      "execution_count": 36,
      "metadata": {
        "id": "dVzNVFLto1uu",
        "colab": {
          "base_uri": "https://localhost:8080/",
          "height": 206
        },
        "outputId": "01e88cb0-d357-4e85-dd23-0fbba613f660"
      },
      "outputs": [
        {
          "output_type": "execute_result",
          "data": {
            "text/plain": [
              "   userId  rating   timestamp movieId\n",
              "0       1     1.0  1425941529   as680\n",
              "1       1     4.5  1425942435  ns2186\n",
              "2       1     5.0  1425941523  hs2381\n",
              "3       1     5.0  1425941546  ns3663\n",
              "4       1     5.0  1425941556  as9500"
            ],
            "text/html": [
              "\n",
              "  <div id=\"df-8e0e7f16-93ae-48e4-8790-76f2d1348c61\">\n",
              "    <div class=\"colab-df-container\">\n",
              "      <div>\n",
              "<style scoped>\n",
              "    .dataframe tbody tr th:only-of-type {\n",
              "        vertical-align: middle;\n",
              "    }\n",
              "\n",
              "    .dataframe tbody tr th {\n",
              "        vertical-align: top;\n",
              "    }\n",
              "\n",
              "    .dataframe thead th {\n",
              "        text-align: right;\n",
              "    }\n",
              "</style>\n",
              "<table border=\"1\" class=\"dataframe\">\n",
              "  <thead>\n",
              "    <tr style=\"text-align: right;\">\n",
              "      <th></th>\n",
              "      <th>userId</th>\n",
              "      <th>rating</th>\n",
              "      <th>timestamp</th>\n",
              "      <th>movieId</th>\n",
              "    </tr>\n",
              "  </thead>\n",
              "  <tbody>\n",
              "    <tr>\n",
              "      <th>0</th>\n",
              "      <td>1</td>\n",
              "      <td>1.0</td>\n",
              "      <td>1425941529</td>\n",
              "      <td>as680</td>\n",
              "    </tr>\n",
              "    <tr>\n",
              "      <th>1</th>\n",
              "      <td>1</td>\n",
              "      <td>4.5</td>\n",
              "      <td>1425942435</td>\n",
              "      <td>ns2186</td>\n",
              "    </tr>\n",
              "    <tr>\n",
              "      <th>2</th>\n",
              "      <td>1</td>\n",
              "      <td>5.0</td>\n",
              "      <td>1425941523</td>\n",
              "      <td>hs2381</td>\n",
              "    </tr>\n",
              "    <tr>\n",
              "      <th>3</th>\n",
              "      <td>1</td>\n",
              "      <td>5.0</td>\n",
              "      <td>1425941546</td>\n",
              "      <td>ns3663</td>\n",
              "    </tr>\n",
              "    <tr>\n",
              "      <th>4</th>\n",
              "      <td>1</td>\n",
              "      <td>5.0</td>\n",
              "      <td>1425941556</td>\n",
              "      <td>as9500</td>\n",
              "    </tr>\n",
              "  </tbody>\n",
              "</table>\n",
              "</div>\n",
              "      <button class=\"colab-df-convert\" onclick=\"convertToInteractive('df-8e0e7f16-93ae-48e4-8790-76f2d1348c61')\"\n",
              "              title=\"Convert this dataframe to an interactive table.\"\n",
              "              style=\"display:none;\">\n",
              "        \n",
              "  <svg xmlns=\"http://www.w3.org/2000/svg\" height=\"24px\"viewBox=\"0 0 24 24\"\n",
              "       width=\"24px\">\n",
              "    <path d=\"M0 0h24v24H0V0z\" fill=\"none\"/>\n",
              "    <path d=\"M18.56 5.44l.94 2.06.94-2.06 2.06-.94-2.06-.94-.94-2.06-.94 2.06-2.06.94zm-11 1L8.5 8.5l.94-2.06 2.06-.94-2.06-.94L8.5 2.5l-.94 2.06-2.06.94zm10 10l.94 2.06.94-2.06 2.06-.94-2.06-.94-.94-2.06-.94 2.06-2.06.94z\"/><path d=\"M17.41 7.96l-1.37-1.37c-.4-.4-.92-.59-1.43-.59-.52 0-1.04.2-1.43.59L10.3 9.45l-7.72 7.72c-.78.78-.78 2.05 0 2.83L4 21.41c.39.39.9.59 1.41.59.51 0 1.02-.2 1.41-.59l7.78-7.78 2.81-2.81c.8-.78.8-2.07 0-2.86zM5.41 20L4 18.59l7.72-7.72 1.47 1.35L5.41 20z\"/>\n",
              "  </svg>\n",
              "      </button>\n",
              "      \n",
              "  <style>\n",
              "    .colab-df-container {\n",
              "      display:flex;\n",
              "      flex-wrap:wrap;\n",
              "      gap: 12px;\n",
              "    }\n",
              "\n",
              "    .colab-df-convert {\n",
              "      background-color: #E8F0FE;\n",
              "      border: none;\n",
              "      border-radius: 50%;\n",
              "      cursor: pointer;\n",
              "      display: none;\n",
              "      fill: #1967D2;\n",
              "      height: 32px;\n",
              "      padding: 0 0 0 0;\n",
              "      width: 32px;\n",
              "    }\n",
              "\n",
              "    .colab-df-convert:hover {\n",
              "      background-color: #E2EBFA;\n",
              "      box-shadow: 0px 1px 2px rgba(60, 64, 67, 0.3), 0px 1px 3px 1px rgba(60, 64, 67, 0.15);\n",
              "      fill: #174EA6;\n",
              "    }\n",
              "\n",
              "    [theme=dark] .colab-df-convert {\n",
              "      background-color: #3B4455;\n",
              "      fill: #D2E3FC;\n",
              "    }\n",
              "\n",
              "    [theme=dark] .colab-df-convert:hover {\n",
              "      background-color: #434B5C;\n",
              "      box-shadow: 0px 1px 3px 1px rgba(0, 0, 0, 0.15);\n",
              "      filter: drop-shadow(0px 1px 2px rgba(0, 0, 0, 0.3));\n",
              "      fill: #FFFFFF;\n",
              "    }\n",
              "  </style>\n",
              "\n",
              "      <script>\n",
              "        const buttonEl =\n",
              "          document.querySelector('#df-8e0e7f16-93ae-48e4-8790-76f2d1348c61 button.colab-df-convert');\n",
              "        buttonEl.style.display =\n",
              "          google.colab.kernel.accessAllowed ? 'block' : 'none';\n",
              "\n",
              "        async function convertToInteractive(key) {\n",
              "          const element = document.querySelector('#df-8e0e7f16-93ae-48e4-8790-76f2d1348c61');\n",
              "          const dataTable =\n",
              "            await google.colab.kernel.invokeFunction('convertToInteractive',\n",
              "                                                     [key], {});\n",
              "          if (!dataTable) return;\n",
              "\n",
              "          const docLinkHtml = 'Like what you see? Visit the ' +\n",
              "            '<a target=\"_blank\" href=https://colab.research.google.com/notebooks/data_table.ipynb>data table notebook</a>'\n",
              "            + ' to learn more about interactive tables.';\n",
              "          element.innerHTML = '';\n",
              "          dataTable['output_type'] = 'display_data';\n",
              "          await google.colab.output.renderOutput(dataTable, element);\n",
              "          const docLink = document.createElement('div');\n",
              "          docLink.innerHTML = docLinkHtml;\n",
              "          element.appendChild(docLink);\n",
              "        }\n",
              "      </script>\n",
              "    </div>\n",
              "  </div>\n",
              "  "
            ]
          },
          "metadata": {},
          "execution_count": 36
        }
      ],
      "source": [
        "r_1.head()"
      ]
    },
    {
      "cell_type": "code",
      "execution_count": 37,
      "metadata": {
        "id": "ePExX7Ino1uv"
      },
      "outputs": [],
      "source": [
        "score = pd.concat([r_1,r_2,r_3,r_4,r_5,r_6,r_7,r_8])"
      ]
    },
    {
      "cell_type": "markdown",
      "metadata": {
        "id": "BYYcmHNvo1uw"
      },
      "source": [
        "Aca convierto la columna timestamp a formato AAAA-mm-dd"
      ]
    },
    {
      "cell_type": "code",
      "execution_count": 38,
      "metadata": {
        "id": "te60P66_o1ux"
      },
      "outputs": [],
      "source": [
        "score['timestamp'] = pd.to_datetime(score['timestamp'])"
      ]
    },
    {
      "cell_type": "code",
      "execution_count": 39,
      "metadata": {
        "id": "EMQ2hBxqo1uz"
      },
      "outputs": [],
      "source": [
        "# convertir la columna de timestamp a un objeto datetime\n",
        "score['timestamp'] = pd.to_datetime(score['timestamp'])\n",
        "\n",
        "# extraer solo la marca_temporal de la columna de timestamp\n",
        "score['marca_temporal'] = score['timestamp'].dt.date\n",
        "\n",
        "# convertir la marca_temporal de vuelta a una cadena de texto con el formato deseado\n",
        "score['marca_temporal'] = score['marca_temporal'].apply(lambda x: x.strftime('%Y-%m-%d'))\n"
      ]
    },
    {
      "cell_type": "code",
      "execution_count": 40,
      "metadata": {
        "id": "EW_vZIceo1uy",
        "colab": {
          "base_uri": "https://localhost:8080/",
          "height": 112
        },
        "outputId": "6aca26f0-b7a1-4106-822b-82291624bd83"
      },
      "outputs": [
        {
          "output_type": "execute_result",
          "data": {
            "text/plain": [
              "   userId  rating                     timestamp movieId marca_temporal\n",
              "0       1     1.0 1970-01-01 00:00:01.425941529   as680     1970-01-01\n",
              "1       1     4.5 1970-01-01 00:00:01.425942435  ns2186     1970-01-01"
            ],
            "text/html": [
              "\n",
              "  <div id=\"df-4d54a740-0e1f-4bf4-9657-833ce2759f0c\">\n",
              "    <div class=\"colab-df-container\">\n",
              "      <div>\n",
              "<style scoped>\n",
              "    .dataframe tbody tr th:only-of-type {\n",
              "        vertical-align: middle;\n",
              "    }\n",
              "\n",
              "    .dataframe tbody tr th {\n",
              "        vertical-align: top;\n",
              "    }\n",
              "\n",
              "    .dataframe thead th {\n",
              "        text-align: right;\n",
              "    }\n",
              "</style>\n",
              "<table border=\"1\" class=\"dataframe\">\n",
              "  <thead>\n",
              "    <tr style=\"text-align: right;\">\n",
              "      <th></th>\n",
              "      <th>userId</th>\n",
              "      <th>rating</th>\n",
              "      <th>timestamp</th>\n",
              "      <th>movieId</th>\n",
              "      <th>marca_temporal</th>\n",
              "    </tr>\n",
              "  </thead>\n",
              "  <tbody>\n",
              "    <tr>\n",
              "      <th>0</th>\n",
              "      <td>1</td>\n",
              "      <td>1.0</td>\n",
              "      <td>1970-01-01 00:00:01.425941529</td>\n",
              "      <td>as680</td>\n",
              "      <td>1970-01-01</td>\n",
              "    </tr>\n",
              "    <tr>\n",
              "      <th>1</th>\n",
              "      <td>1</td>\n",
              "      <td>4.5</td>\n",
              "      <td>1970-01-01 00:00:01.425942435</td>\n",
              "      <td>ns2186</td>\n",
              "      <td>1970-01-01</td>\n",
              "    </tr>\n",
              "  </tbody>\n",
              "</table>\n",
              "</div>\n",
              "      <button class=\"colab-df-convert\" onclick=\"convertToInteractive('df-4d54a740-0e1f-4bf4-9657-833ce2759f0c')\"\n",
              "              title=\"Convert this dataframe to an interactive table.\"\n",
              "              style=\"display:none;\">\n",
              "        \n",
              "  <svg xmlns=\"http://www.w3.org/2000/svg\" height=\"24px\"viewBox=\"0 0 24 24\"\n",
              "       width=\"24px\">\n",
              "    <path d=\"M0 0h24v24H0V0z\" fill=\"none\"/>\n",
              "    <path d=\"M18.56 5.44l.94 2.06.94-2.06 2.06-.94-2.06-.94-.94-2.06-.94 2.06-2.06.94zm-11 1L8.5 8.5l.94-2.06 2.06-.94-2.06-.94L8.5 2.5l-.94 2.06-2.06.94zm10 10l.94 2.06.94-2.06 2.06-.94-2.06-.94-.94-2.06-.94 2.06-2.06.94z\"/><path d=\"M17.41 7.96l-1.37-1.37c-.4-.4-.92-.59-1.43-.59-.52 0-1.04.2-1.43.59L10.3 9.45l-7.72 7.72c-.78.78-.78 2.05 0 2.83L4 21.41c.39.39.9.59 1.41.59.51 0 1.02-.2 1.41-.59l7.78-7.78 2.81-2.81c.8-.78.8-2.07 0-2.86zM5.41 20L4 18.59l7.72-7.72 1.47 1.35L5.41 20z\"/>\n",
              "  </svg>\n",
              "      </button>\n",
              "      \n",
              "  <style>\n",
              "    .colab-df-container {\n",
              "      display:flex;\n",
              "      flex-wrap:wrap;\n",
              "      gap: 12px;\n",
              "    }\n",
              "\n",
              "    .colab-df-convert {\n",
              "      background-color: #E8F0FE;\n",
              "      border: none;\n",
              "      border-radius: 50%;\n",
              "      cursor: pointer;\n",
              "      display: none;\n",
              "      fill: #1967D2;\n",
              "      height: 32px;\n",
              "      padding: 0 0 0 0;\n",
              "      width: 32px;\n",
              "    }\n",
              "\n",
              "    .colab-df-convert:hover {\n",
              "      background-color: #E2EBFA;\n",
              "      box-shadow: 0px 1px 2px rgba(60, 64, 67, 0.3), 0px 1px 3px 1px rgba(60, 64, 67, 0.15);\n",
              "      fill: #174EA6;\n",
              "    }\n",
              "\n",
              "    [theme=dark] .colab-df-convert {\n",
              "      background-color: #3B4455;\n",
              "      fill: #D2E3FC;\n",
              "    }\n",
              "\n",
              "    [theme=dark] .colab-df-convert:hover {\n",
              "      background-color: #434B5C;\n",
              "      box-shadow: 0px 1px 3px 1px rgba(0, 0, 0, 0.15);\n",
              "      filter: drop-shadow(0px 1px 2px rgba(0, 0, 0, 0.3));\n",
              "      fill: #FFFFFF;\n",
              "    }\n",
              "  </style>\n",
              "\n",
              "      <script>\n",
              "        const buttonEl =\n",
              "          document.querySelector('#df-4d54a740-0e1f-4bf4-9657-833ce2759f0c button.colab-df-convert');\n",
              "        buttonEl.style.display =\n",
              "          google.colab.kernel.accessAllowed ? 'block' : 'none';\n",
              "\n",
              "        async function convertToInteractive(key) {\n",
              "          const element = document.querySelector('#df-4d54a740-0e1f-4bf4-9657-833ce2759f0c');\n",
              "          const dataTable =\n",
              "            await google.colab.kernel.invokeFunction('convertToInteractive',\n",
              "                                                     [key], {});\n",
              "          if (!dataTable) return;\n",
              "\n",
              "          const docLinkHtml = 'Like what you see? Visit the ' +\n",
              "            '<a target=\"_blank\" href=https://colab.research.google.com/notebooks/data_table.ipynb>data table notebook</a>'\n",
              "            + ' to learn more about interactive tables.';\n",
              "          element.innerHTML = '';\n",
              "          dataTable['output_type'] = 'display_data';\n",
              "          await google.colab.output.renderOutput(dataTable, element);\n",
              "          const docLink = document.createElement('div');\n",
              "          docLink.innerHTML = docLinkHtml;\n",
              "          element.appendChild(docLink);\n",
              "        }\n",
              "      </script>\n",
              "    </div>\n",
              "  </div>\n",
              "  "
            ]
          },
          "metadata": {},
          "execution_count": 40
        }
      ],
      "source": [
        "score.head(2)"
      ]
    },
    {
      "cell_type": "code",
      "execution_count": 41,
      "metadata": {
        "id": "mxEXcb3Go1u2"
      },
      "outputs": [],
      "source": [
        "#considero no la voy a necesitar\n",
        "score = score.drop(columns=['timestamp'])"
      ]
    },
    {
      "cell_type": "markdown",
      "metadata": {
        "id": "Ak3NQXtpo1u4"
      },
      "source": [
        "saco promedio por id para que queden la misma cantidad de filas que en el df streaming"
      ]
    },
    {
      "cell_type": "code",
      "source": [
        "prome = score.groupby('movieId')['rating'].mean()\n",
        "\n",
        "prome"
      ],
      "metadata": {
        "id": "PteI4aTmVxHu",
        "colab": {
          "base_uri": "https://localhost:8080/"
        },
        "outputId": "831b2e26-508a-4df8-b344-5cca2c2741a5"
      },
      "execution_count": 42,
      "outputs": [
        {
          "output_type": "execute_result",
          "data": {
            "text/plain": [
              "movieId\n",
              "as1       3.467131\n",
              "as10      3.439571\n",
              "as100     3.609302\n",
              "as1000    3.556701\n",
              "as1001    3.585288\n",
              "            ...   \n",
              "ns995     3.515625\n",
              "ns996     3.626518\n",
              "ns997     3.530526\n",
              "ns998     3.582645\n",
              "ns999     3.494781\n",
              "Name: rating, Length: 22998, dtype: float64"
            ]
          },
          "metadata": {},
          "execution_count": 42
        }
      ]
    },
    {
      "cell_type": "code",
      "source": [
        "#aca verifico si los valores son correctos para concatenar, y el resultado es si\n",
        "comparacion = score['movieId'].isin(streaming['id'])\n",
        "comparacion.unique()\n"
      ],
      "metadata": {
        "colab": {
          "base_uri": "https://localhost:8080/"
        },
        "id": "sB2oysMYaclE",
        "outputId": "e8eb3965-8a73-4020-cc3a-bead4841a671"
      },
      "execution_count": 43,
      "outputs": [
        {
          "output_type": "execute_result",
          "data": {
            "text/plain": [
              "array([ True])"
            ]
          },
          "metadata": {},
          "execution_count": 43
        }
      ]
    },
    {
      "cell_type": "code",
      "execution_count": 44,
      "metadata": {
        "id": "FQ3Ot7-So1u8"
      },
      "outputs": [],
      "source": [
        "#unimos streaming y promedio por pelicula\n",
        "df1 = pd.merge(streaming, prome, left_on='id', right_on='movieId', how='left')"
      ]
    },
    {
      "cell_type": "code",
      "execution_count": 45,
      "metadata": {
        "id": "n1H5GQF5o1u9",
        "colab": {
          "base_uri": "https://localhost:8080/",
          "height": 349
        },
        "outputId": "4299b4a4-94cb-4951-e33a-52f0e28fb1bb"
      },
      "outputs": [
        {
          "output_type": "execute_result",
          "data": {
            "text/plain": [
              "  show_id   type                 title      director  \\\n",
              "0      s1  movie   the grand seduction  don mckellar   \n",
              "1      s2  movie  take care good night  girish joshi   \n",
              "\n",
              "                                               cast country date_added  \\\n",
              "0    brendan gleeson, taylor kitsch, gordon pinsent  canada 2021-03-30   \n",
              "1  mahesh manjrekar, abhay mahajan, sachin khedekar   india 2021-03-30   \n",
              "\n",
              "   release_year rating_x duration             listed_in  \\\n",
              "0          2014        g  113 min         comedy, drama   \n",
              "1          2018      13+  110 min  drama, international   \n",
              "\n",
              "                                         description  duration_int  \\\n",
              "0  a small fishing village must procure a local d...           113   \n",
              "1  a metro family decides to fight a cyber crimin...           110   \n",
              "\n",
              "  duration_type plataforma   id  rating_y  \n",
              "0           min     amazon  as1  3.467131  \n",
              "1           min     amazon  as2  3.548682  "
            ],
            "text/html": [
              "\n",
              "  <div id=\"df-ac4d6924-cfb5-4dd2-869b-2ec322bffe73\">\n",
              "    <div class=\"colab-df-container\">\n",
              "      <div>\n",
              "<style scoped>\n",
              "    .dataframe tbody tr th:only-of-type {\n",
              "        vertical-align: middle;\n",
              "    }\n",
              "\n",
              "    .dataframe tbody tr th {\n",
              "        vertical-align: top;\n",
              "    }\n",
              "\n",
              "    .dataframe thead th {\n",
              "        text-align: right;\n",
              "    }\n",
              "</style>\n",
              "<table border=\"1\" class=\"dataframe\">\n",
              "  <thead>\n",
              "    <tr style=\"text-align: right;\">\n",
              "      <th></th>\n",
              "      <th>show_id</th>\n",
              "      <th>type</th>\n",
              "      <th>title</th>\n",
              "      <th>director</th>\n",
              "      <th>cast</th>\n",
              "      <th>country</th>\n",
              "      <th>date_added</th>\n",
              "      <th>release_year</th>\n",
              "      <th>rating_x</th>\n",
              "      <th>duration</th>\n",
              "      <th>listed_in</th>\n",
              "      <th>description</th>\n",
              "      <th>duration_int</th>\n",
              "      <th>duration_type</th>\n",
              "      <th>plataforma</th>\n",
              "      <th>id</th>\n",
              "      <th>rating_y</th>\n",
              "    </tr>\n",
              "  </thead>\n",
              "  <tbody>\n",
              "    <tr>\n",
              "      <th>0</th>\n",
              "      <td>s1</td>\n",
              "      <td>movie</td>\n",
              "      <td>the grand seduction</td>\n",
              "      <td>don mckellar</td>\n",
              "      <td>brendan gleeson, taylor kitsch, gordon pinsent</td>\n",
              "      <td>canada</td>\n",
              "      <td>2021-03-30</td>\n",
              "      <td>2014</td>\n",
              "      <td>g</td>\n",
              "      <td>113 min</td>\n",
              "      <td>comedy, drama</td>\n",
              "      <td>a small fishing village must procure a local d...</td>\n",
              "      <td>113</td>\n",
              "      <td>min</td>\n",
              "      <td>amazon</td>\n",
              "      <td>as1</td>\n",
              "      <td>3.467131</td>\n",
              "    </tr>\n",
              "    <tr>\n",
              "      <th>1</th>\n",
              "      <td>s2</td>\n",
              "      <td>movie</td>\n",
              "      <td>take care good night</td>\n",
              "      <td>girish joshi</td>\n",
              "      <td>mahesh manjrekar, abhay mahajan, sachin khedekar</td>\n",
              "      <td>india</td>\n",
              "      <td>2021-03-30</td>\n",
              "      <td>2018</td>\n",
              "      <td>13+</td>\n",
              "      <td>110 min</td>\n",
              "      <td>drama, international</td>\n",
              "      <td>a metro family decides to fight a cyber crimin...</td>\n",
              "      <td>110</td>\n",
              "      <td>min</td>\n",
              "      <td>amazon</td>\n",
              "      <td>as2</td>\n",
              "      <td>3.548682</td>\n",
              "    </tr>\n",
              "  </tbody>\n",
              "</table>\n",
              "</div>\n",
              "      <button class=\"colab-df-convert\" onclick=\"convertToInteractive('df-ac4d6924-cfb5-4dd2-869b-2ec322bffe73')\"\n",
              "              title=\"Convert this dataframe to an interactive table.\"\n",
              "              style=\"display:none;\">\n",
              "        \n",
              "  <svg xmlns=\"http://www.w3.org/2000/svg\" height=\"24px\"viewBox=\"0 0 24 24\"\n",
              "       width=\"24px\">\n",
              "    <path d=\"M0 0h24v24H0V0z\" fill=\"none\"/>\n",
              "    <path d=\"M18.56 5.44l.94 2.06.94-2.06 2.06-.94-2.06-.94-.94-2.06-.94 2.06-2.06.94zm-11 1L8.5 8.5l.94-2.06 2.06-.94-2.06-.94L8.5 2.5l-.94 2.06-2.06.94zm10 10l.94 2.06.94-2.06 2.06-.94-2.06-.94-.94-2.06-.94 2.06-2.06.94z\"/><path d=\"M17.41 7.96l-1.37-1.37c-.4-.4-.92-.59-1.43-.59-.52 0-1.04.2-1.43.59L10.3 9.45l-7.72 7.72c-.78.78-.78 2.05 0 2.83L4 21.41c.39.39.9.59 1.41.59.51 0 1.02-.2 1.41-.59l7.78-7.78 2.81-2.81c.8-.78.8-2.07 0-2.86zM5.41 20L4 18.59l7.72-7.72 1.47 1.35L5.41 20z\"/>\n",
              "  </svg>\n",
              "      </button>\n",
              "      \n",
              "  <style>\n",
              "    .colab-df-container {\n",
              "      display:flex;\n",
              "      flex-wrap:wrap;\n",
              "      gap: 12px;\n",
              "    }\n",
              "\n",
              "    .colab-df-convert {\n",
              "      background-color: #E8F0FE;\n",
              "      border: none;\n",
              "      border-radius: 50%;\n",
              "      cursor: pointer;\n",
              "      display: none;\n",
              "      fill: #1967D2;\n",
              "      height: 32px;\n",
              "      padding: 0 0 0 0;\n",
              "      width: 32px;\n",
              "    }\n",
              "\n",
              "    .colab-df-convert:hover {\n",
              "      background-color: #E2EBFA;\n",
              "      box-shadow: 0px 1px 2px rgba(60, 64, 67, 0.3), 0px 1px 3px 1px rgba(60, 64, 67, 0.15);\n",
              "      fill: #174EA6;\n",
              "    }\n",
              "\n",
              "    [theme=dark] .colab-df-convert {\n",
              "      background-color: #3B4455;\n",
              "      fill: #D2E3FC;\n",
              "    }\n",
              "\n",
              "    [theme=dark] .colab-df-convert:hover {\n",
              "      background-color: #434B5C;\n",
              "      box-shadow: 0px 1px 3px 1px rgba(0, 0, 0, 0.15);\n",
              "      filter: drop-shadow(0px 1px 2px rgba(0, 0, 0, 0.3));\n",
              "      fill: #FFFFFF;\n",
              "    }\n",
              "  </style>\n",
              "\n",
              "      <script>\n",
              "        const buttonEl =\n",
              "          document.querySelector('#df-ac4d6924-cfb5-4dd2-869b-2ec322bffe73 button.colab-df-convert');\n",
              "        buttonEl.style.display =\n",
              "          google.colab.kernel.accessAllowed ? 'block' : 'none';\n",
              "\n",
              "        async function convertToInteractive(key) {\n",
              "          const element = document.querySelector('#df-ac4d6924-cfb5-4dd2-869b-2ec322bffe73');\n",
              "          const dataTable =\n",
              "            await google.colab.kernel.invokeFunction('convertToInteractive',\n",
              "                                                     [key], {});\n",
              "          if (!dataTable) return;\n",
              "\n",
              "          const docLinkHtml = 'Like what you see? Visit the ' +\n",
              "            '<a target=\"_blank\" href=https://colab.research.google.com/notebooks/data_table.ipynb>data table notebook</a>'\n",
              "            + ' to learn more about interactive tables.';\n",
              "          element.innerHTML = '';\n",
              "          dataTable['output_type'] = 'display_data';\n",
              "          await google.colab.output.renderOutput(dataTable, element);\n",
              "          const docLink = document.createElement('div');\n",
              "          docLink.innerHTML = docLinkHtml;\n",
              "          element.appendChild(docLink);\n",
              "        }\n",
              "      </script>\n",
              "    </div>\n",
              "  </div>\n",
              "  "
            ]
          },
          "metadata": {},
          "execution_count": 45
        }
      ],
      "source": [
        "df1.head(2)"
      ]
    },
    {
      "cell_type": "code",
      "source": [
        "df1.columns"
      ],
      "metadata": {
        "id": "iezgH6vxbaeH",
        "colab": {
          "base_uri": "https://localhost:8080/"
        },
        "outputId": "28d2ef67-295e-46a5-96d6-d67a8565bd96"
      },
      "execution_count": 46,
      "outputs": [
        {
          "output_type": "execute_result",
          "data": {
            "text/plain": [
              "Index(['show_id', 'type', 'title', 'director', 'cast', 'country', 'date_added',\n",
              "       'release_year', 'rating_x', 'duration', 'listed_in', 'description',\n",
              "       'duration_int', 'duration_type', 'plataforma', 'id', 'rating_y'],\n",
              "      dtype='object')"
            ]
          },
          "metadata": {},
          "execution_count": 46
        }
      ]
    },
    {
      "cell_type": "code",
      "execution_count": 47,
      "metadata": {
        "id": "AMJVQ3iJo1vB"
      },
      "outputs": [],
      "source": [
        "#aca renombro las columnas porque quiero esten en castellano solo deje las de duration\n",
        "df1 = df1.rename(columns={'rating_x':'clasificacion','NuevoId':'nuevoid','rating_y':'puntuacion','type':'tipo','title':'titulo','cast':'elenco','country':'pais','date_added':'fecha_agregada','release_year':'año_realiacion','duration':'duracion','listed_in':'genero','description':'descripcion'})"
      ]
    },
    {
      "cell_type": "code",
      "execution_count": 48,
      "metadata": {
        "id": "z3ll7pFuo1vD",
        "colab": {
          "base_uri": "https://localhost:8080/",
          "height": 349
        },
        "outputId": "11e67553-963e-4028-e9b0-2163b9fa157c"
      },
      "outputs": [
        {
          "output_type": "execute_result",
          "data": {
            "text/plain": [
              "  show_id   tipo                titulo      director  \\\n",
              "0      s1  movie   the grand seduction  don mckellar   \n",
              "1      s2  movie  take care good night  girish joshi   \n",
              "\n",
              "                                             elenco    pais fecha_agregada  \\\n",
              "0    brendan gleeson, taylor kitsch, gordon pinsent  canada     2021-03-30   \n",
              "1  mahesh manjrekar, abhay mahajan, sachin khedekar   india     2021-03-30   \n",
              "\n",
              "   año_realiacion clasificacion duracion                genero  \\\n",
              "0            2014             g  113 min         comedy, drama   \n",
              "1            2018           13+  110 min  drama, international   \n",
              "\n",
              "                                         descripcion  duration_int  \\\n",
              "0  a small fishing village must procure a local d...           113   \n",
              "1  a metro family decides to fight a cyber crimin...           110   \n",
              "\n",
              "  duration_type plataforma   id  puntuacion  \n",
              "0           min     amazon  as1    3.467131  \n",
              "1           min     amazon  as2    3.548682  "
            ],
            "text/html": [
              "\n",
              "  <div id=\"df-72417740-0057-4023-80d0-0a4e851f02e0\">\n",
              "    <div class=\"colab-df-container\">\n",
              "      <div>\n",
              "<style scoped>\n",
              "    .dataframe tbody tr th:only-of-type {\n",
              "        vertical-align: middle;\n",
              "    }\n",
              "\n",
              "    .dataframe tbody tr th {\n",
              "        vertical-align: top;\n",
              "    }\n",
              "\n",
              "    .dataframe thead th {\n",
              "        text-align: right;\n",
              "    }\n",
              "</style>\n",
              "<table border=\"1\" class=\"dataframe\">\n",
              "  <thead>\n",
              "    <tr style=\"text-align: right;\">\n",
              "      <th></th>\n",
              "      <th>show_id</th>\n",
              "      <th>tipo</th>\n",
              "      <th>titulo</th>\n",
              "      <th>director</th>\n",
              "      <th>elenco</th>\n",
              "      <th>pais</th>\n",
              "      <th>fecha_agregada</th>\n",
              "      <th>año_realiacion</th>\n",
              "      <th>clasificacion</th>\n",
              "      <th>duracion</th>\n",
              "      <th>genero</th>\n",
              "      <th>descripcion</th>\n",
              "      <th>duration_int</th>\n",
              "      <th>duration_type</th>\n",
              "      <th>plataforma</th>\n",
              "      <th>id</th>\n",
              "      <th>puntuacion</th>\n",
              "    </tr>\n",
              "  </thead>\n",
              "  <tbody>\n",
              "    <tr>\n",
              "      <th>0</th>\n",
              "      <td>s1</td>\n",
              "      <td>movie</td>\n",
              "      <td>the grand seduction</td>\n",
              "      <td>don mckellar</td>\n",
              "      <td>brendan gleeson, taylor kitsch, gordon pinsent</td>\n",
              "      <td>canada</td>\n",
              "      <td>2021-03-30</td>\n",
              "      <td>2014</td>\n",
              "      <td>g</td>\n",
              "      <td>113 min</td>\n",
              "      <td>comedy, drama</td>\n",
              "      <td>a small fishing village must procure a local d...</td>\n",
              "      <td>113</td>\n",
              "      <td>min</td>\n",
              "      <td>amazon</td>\n",
              "      <td>as1</td>\n",
              "      <td>3.467131</td>\n",
              "    </tr>\n",
              "    <tr>\n",
              "      <th>1</th>\n",
              "      <td>s2</td>\n",
              "      <td>movie</td>\n",
              "      <td>take care good night</td>\n",
              "      <td>girish joshi</td>\n",
              "      <td>mahesh manjrekar, abhay mahajan, sachin khedekar</td>\n",
              "      <td>india</td>\n",
              "      <td>2021-03-30</td>\n",
              "      <td>2018</td>\n",
              "      <td>13+</td>\n",
              "      <td>110 min</td>\n",
              "      <td>drama, international</td>\n",
              "      <td>a metro family decides to fight a cyber crimin...</td>\n",
              "      <td>110</td>\n",
              "      <td>min</td>\n",
              "      <td>amazon</td>\n",
              "      <td>as2</td>\n",
              "      <td>3.548682</td>\n",
              "    </tr>\n",
              "  </tbody>\n",
              "</table>\n",
              "</div>\n",
              "      <button class=\"colab-df-convert\" onclick=\"convertToInteractive('df-72417740-0057-4023-80d0-0a4e851f02e0')\"\n",
              "              title=\"Convert this dataframe to an interactive table.\"\n",
              "              style=\"display:none;\">\n",
              "        \n",
              "  <svg xmlns=\"http://www.w3.org/2000/svg\" height=\"24px\"viewBox=\"0 0 24 24\"\n",
              "       width=\"24px\">\n",
              "    <path d=\"M0 0h24v24H0V0z\" fill=\"none\"/>\n",
              "    <path d=\"M18.56 5.44l.94 2.06.94-2.06 2.06-.94-2.06-.94-.94-2.06-.94 2.06-2.06.94zm-11 1L8.5 8.5l.94-2.06 2.06-.94-2.06-.94L8.5 2.5l-.94 2.06-2.06.94zm10 10l.94 2.06.94-2.06 2.06-.94-2.06-.94-.94-2.06-.94 2.06-2.06.94z\"/><path d=\"M17.41 7.96l-1.37-1.37c-.4-.4-.92-.59-1.43-.59-.52 0-1.04.2-1.43.59L10.3 9.45l-7.72 7.72c-.78.78-.78 2.05 0 2.83L4 21.41c.39.39.9.59 1.41.59.51 0 1.02-.2 1.41-.59l7.78-7.78 2.81-2.81c.8-.78.8-2.07 0-2.86zM5.41 20L4 18.59l7.72-7.72 1.47 1.35L5.41 20z\"/>\n",
              "  </svg>\n",
              "      </button>\n",
              "      \n",
              "  <style>\n",
              "    .colab-df-container {\n",
              "      display:flex;\n",
              "      flex-wrap:wrap;\n",
              "      gap: 12px;\n",
              "    }\n",
              "\n",
              "    .colab-df-convert {\n",
              "      background-color: #E8F0FE;\n",
              "      border: none;\n",
              "      border-radius: 50%;\n",
              "      cursor: pointer;\n",
              "      display: none;\n",
              "      fill: #1967D2;\n",
              "      height: 32px;\n",
              "      padding: 0 0 0 0;\n",
              "      width: 32px;\n",
              "    }\n",
              "\n",
              "    .colab-df-convert:hover {\n",
              "      background-color: #E2EBFA;\n",
              "      box-shadow: 0px 1px 2px rgba(60, 64, 67, 0.3), 0px 1px 3px 1px rgba(60, 64, 67, 0.15);\n",
              "      fill: #174EA6;\n",
              "    }\n",
              "\n",
              "    [theme=dark] .colab-df-convert {\n",
              "      background-color: #3B4455;\n",
              "      fill: #D2E3FC;\n",
              "    }\n",
              "\n",
              "    [theme=dark] .colab-df-convert:hover {\n",
              "      background-color: #434B5C;\n",
              "      box-shadow: 0px 1px 3px 1px rgba(0, 0, 0, 0.15);\n",
              "      filter: drop-shadow(0px 1px 2px rgba(0, 0, 0, 0.3));\n",
              "      fill: #FFFFFF;\n",
              "    }\n",
              "  </style>\n",
              "\n",
              "      <script>\n",
              "        const buttonEl =\n",
              "          document.querySelector('#df-72417740-0057-4023-80d0-0a4e851f02e0 button.colab-df-convert');\n",
              "        buttonEl.style.display =\n",
              "          google.colab.kernel.accessAllowed ? 'block' : 'none';\n",
              "\n",
              "        async function convertToInteractive(key) {\n",
              "          const element = document.querySelector('#df-72417740-0057-4023-80d0-0a4e851f02e0');\n",
              "          const dataTable =\n",
              "            await google.colab.kernel.invokeFunction('convertToInteractive',\n",
              "                                                     [key], {});\n",
              "          if (!dataTable) return;\n",
              "\n",
              "          const docLinkHtml = 'Like what you see? Visit the ' +\n",
              "            '<a target=\"_blank\" href=https://colab.research.google.com/notebooks/data_table.ipynb>data table notebook</a>'\n",
              "            + ' to learn more about interactive tables.';\n",
              "          element.innerHTML = '';\n",
              "          dataTable['output_type'] = 'display_data';\n",
              "          await google.colab.output.renderOutput(dataTable, element);\n",
              "          const docLink = document.createElement('div');\n",
              "          docLink.innerHTML = docLinkHtml;\n",
              "          element.appendChild(docLink);\n",
              "        }\n",
              "      </script>\n",
              "    </div>\n",
              "  </div>\n",
              "  "
            ]
          },
          "metadata": {},
          "execution_count": 48
        }
      ],
      "source": [
        "df1.head(2)"
      ]
    },
    {
      "cell_type": "code",
      "execution_count": 49,
      "metadata": {
        "id": "xar-NSYCo1vE"
      },
      "outputs": [],
      "source": [
        "df1.to_csv('df1.csv', sep=',', encoding='utf-8', index=False)"
      ]
    },
    {
      "cell_type": "code",
      "source": [
        "#para guardar los archivos en la compu\n",
        "from google.colab import files\n",
        "files.download('df1.csv')\n"
      ],
      "metadata": {
        "colab": {
          "base_uri": "https://localhost:8080/",
          "height": 17
        },
        "id": "AmSXhb3TwGXr",
        "outputId": "42ce5933-02e1-4cfe-adb1-867a05d8bc71"
      },
      "execution_count": null,
      "outputs": [
        {
          "output_type": "display_data",
          "data": {
            "text/plain": [
              "<IPython.core.display.Javascript object>"
            ],
            "application/javascript": [
              "\n",
              "    async function download(id, filename, size) {\n",
              "      if (!google.colab.kernel.accessAllowed) {\n",
              "        return;\n",
              "      }\n",
              "      const div = document.createElement('div');\n",
              "      const label = document.createElement('label');\n",
              "      label.textContent = `Downloading \"${filename}\": `;\n",
              "      div.appendChild(label);\n",
              "      const progress = document.createElement('progress');\n",
              "      progress.max = size;\n",
              "      div.appendChild(progress);\n",
              "      document.body.appendChild(div);\n",
              "\n",
              "      const buffers = [];\n",
              "      let downloaded = 0;\n",
              "\n",
              "      const channel = await google.colab.kernel.comms.open(id);\n",
              "      // Send a message to notify the kernel that we're ready.\n",
              "      channel.send({})\n",
              "\n",
              "      for await (const message of channel.messages) {\n",
              "        // Send a message to notify the kernel that we're ready.\n",
              "        channel.send({})\n",
              "        if (message.buffers) {\n",
              "          for (const buffer of message.buffers) {\n",
              "            buffers.push(buffer);\n",
              "            downloaded += buffer.byteLength;\n",
              "            progress.value = downloaded;\n",
              "          }\n",
              "        }\n",
              "      }\n",
              "      const blob = new Blob(buffers, {type: 'application/binary'});\n",
              "      const a = document.createElement('a');\n",
              "      a.href = window.URL.createObjectURL(blob);\n",
              "      a.download = filename;\n",
              "      div.appendChild(a);\n",
              "      a.click();\n",
              "      div.remove();\n",
              "    }\n",
              "  "
            ]
          },
          "metadata": {}
        },
        {
          "output_type": "display_data",
          "data": {
            "text/plain": [
              "<IPython.core.display.Javascript object>"
            ],
            "application/javascript": [
              "download(\"download_4db2eb89-9668-41ae-b26e-8f3dd6a30802\", \"df1.csv\", 9769655)"
            ]
          },
          "metadata": {}
        }
      ]
    },
    {
      "cell_type": "markdown",
      "metadata": {
        "id": "F_CZSYJXo1vH"
      },
      "source": [
        "Desarrolo de la FASTAPI\n",
        "  \n",
        "  1)Película (sólo película, no serie, etc) con mayor duración según año, plataforma y tipo de duración. La función debe llamarse get_max_duration(year, platform, duration_type) y debe devolver sólo el string del nombre de la película.\n",
        "\n",
        "  primero cree las funciones en colab para probarlas y luego pasarlas a Fastapi.\n",
        "\n"
      ]
    },
    {
      "cell_type": "code",
      "source": [
        "df1 = pd.read_csv('/content/df1.csv')"
      ],
      "metadata": {
        "id": "b9vh9qSuDiqn"
      },
      "execution_count": 51,
      "outputs": []
    },
    {
      "cell_type": "code",
      "source": [
        "df1.head(2)"
      ],
      "metadata": {
        "colab": {
          "base_uri": "https://localhost:8080/",
          "height": 349
        },
        "id": "mT94ZNnY0czy",
        "outputId": "dc2b4117-08b6-4e48-ed02-36f2a1461ad3"
      },
      "execution_count": 52,
      "outputs": [
        {
          "output_type": "execute_result",
          "data": {
            "text/plain": [
              "  show_id   tipo                titulo      director  \\\n",
              "0      s1  movie   the grand seduction  don mckellar   \n",
              "1      s2  movie  take care good night  girish joshi   \n",
              "\n",
              "                                             elenco    pais fecha_agregada  \\\n",
              "0    brendan gleeson, taylor kitsch, gordon pinsent  canada     2021-03-30   \n",
              "1  mahesh manjrekar, abhay mahajan, sachin khedekar   india     2021-03-30   \n",
              "\n",
              "   año_realiacion clasificacion duracion                genero  \\\n",
              "0            2014             g  113 min         comedy, drama   \n",
              "1            2018           13+  110 min  drama, international   \n",
              "\n",
              "                                         descripcion  duration_int  \\\n",
              "0  a small fishing village must procure a local d...         113.0   \n",
              "1  a metro family decides to fight a cyber crimin...         110.0   \n",
              "\n",
              "  duration_type plataforma   id  puntuacion  \n",
              "0           min     amazon  as1    3.467131  \n",
              "1           min     amazon  as2    3.548682  "
            ],
            "text/html": [
              "\n",
              "  <div id=\"df-d934da05-0d01-4bdf-8827-90f0e6ae99ef\">\n",
              "    <div class=\"colab-df-container\">\n",
              "      <div>\n",
              "<style scoped>\n",
              "    .dataframe tbody tr th:only-of-type {\n",
              "        vertical-align: middle;\n",
              "    }\n",
              "\n",
              "    .dataframe tbody tr th {\n",
              "        vertical-align: top;\n",
              "    }\n",
              "\n",
              "    .dataframe thead th {\n",
              "        text-align: right;\n",
              "    }\n",
              "</style>\n",
              "<table border=\"1\" class=\"dataframe\">\n",
              "  <thead>\n",
              "    <tr style=\"text-align: right;\">\n",
              "      <th></th>\n",
              "      <th>show_id</th>\n",
              "      <th>tipo</th>\n",
              "      <th>titulo</th>\n",
              "      <th>director</th>\n",
              "      <th>elenco</th>\n",
              "      <th>pais</th>\n",
              "      <th>fecha_agregada</th>\n",
              "      <th>año_realiacion</th>\n",
              "      <th>clasificacion</th>\n",
              "      <th>duracion</th>\n",
              "      <th>genero</th>\n",
              "      <th>descripcion</th>\n",
              "      <th>duration_int</th>\n",
              "      <th>duration_type</th>\n",
              "      <th>plataforma</th>\n",
              "      <th>id</th>\n",
              "      <th>puntuacion</th>\n",
              "    </tr>\n",
              "  </thead>\n",
              "  <tbody>\n",
              "    <tr>\n",
              "      <th>0</th>\n",
              "      <td>s1</td>\n",
              "      <td>movie</td>\n",
              "      <td>the grand seduction</td>\n",
              "      <td>don mckellar</td>\n",
              "      <td>brendan gleeson, taylor kitsch, gordon pinsent</td>\n",
              "      <td>canada</td>\n",
              "      <td>2021-03-30</td>\n",
              "      <td>2014</td>\n",
              "      <td>g</td>\n",
              "      <td>113 min</td>\n",
              "      <td>comedy, drama</td>\n",
              "      <td>a small fishing village must procure a local d...</td>\n",
              "      <td>113.0</td>\n",
              "      <td>min</td>\n",
              "      <td>amazon</td>\n",
              "      <td>as1</td>\n",
              "      <td>3.467131</td>\n",
              "    </tr>\n",
              "    <tr>\n",
              "      <th>1</th>\n",
              "      <td>s2</td>\n",
              "      <td>movie</td>\n",
              "      <td>take care good night</td>\n",
              "      <td>girish joshi</td>\n",
              "      <td>mahesh manjrekar, abhay mahajan, sachin khedekar</td>\n",
              "      <td>india</td>\n",
              "      <td>2021-03-30</td>\n",
              "      <td>2018</td>\n",
              "      <td>13+</td>\n",
              "      <td>110 min</td>\n",
              "      <td>drama, international</td>\n",
              "      <td>a metro family decides to fight a cyber crimin...</td>\n",
              "      <td>110.0</td>\n",
              "      <td>min</td>\n",
              "      <td>amazon</td>\n",
              "      <td>as2</td>\n",
              "      <td>3.548682</td>\n",
              "    </tr>\n",
              "  </tbody>\n",
              "</table>\n",
              "</div>\n",
              "      <button class=\"colab-df-convert\" onclick=\"convertToInteractive('df-d934da05-0d01-4bdf-8827-90f0e6ae99ef')\"\n",
              "              title=\"Convert this dataframe to an interactive table.\"\n",
              "              style=\"display:none;\">\n",
              "        \n",
              "  <svg xmlns=\"http://www.w3.org/2000/svg\" height=\"24px\"viewBox=\"0 0 24 24\"\n",
              "       width=\"24px\">\n",
              "    <path d=\"M0 0h24v24H0V0z\" fill=\"none\"/>\n",
              "    <path d=\"M18.56 5.44l.94 2.06.94-2.06 2.06-.94-2.06-.94-.94-2.06-.94 2.06-2.06.94zm-11 1L8.5 8.5l.94-2.06 2.06-.94-2.06-.94L8.5 2.5l-.94 2.06-2.06.94zm10 10l.94 2.06.94-2.06 2.06-.94-2.06-.94-.94-2.06-.94 2.06-2.06.94z\"/><path d=\"M17.41 7.96l-1.37-1.37c-.4-.4-.92-.59-1.43-.59-.52 0-1.04.2-1.43.59L10.3 9.45l-7.72 7.72c-.78.78-.78 2.05 0 2.83L4 21.41c.39.39.9.59 1.41.59.51 0 1.02-.2 1.41-.59l7.78-7.78 2.81-2.81c.8-.78.8-2.07 0-2.86zM5.41 20L4 18.59l7.72-7.72 1.47 1.35L5.41 20z\"/>\n",
              "  </svg>\n",
              "      </button>\n",
              "      \n",
              "  <style>\n",
              "    .colab-df-container {\n",
              "      display:flex;\n",
              "      flex-wrap:wrap;\n",
              "      gap: 12px;\n",
              "    }\n",
              "\n",
              "    .colab-df-convert {\n",
              "      background-color: #E8F0FE;\n",
              "      border: none;\n",
              "      border-radius: 50%;\n",
              "      cursor: pointer;\n",
              "      display: none;\n",
              "      fill: #1967D2;\n",
              "      height: 32px;\n",
              "      padding: 0 0 0 0;\n",
              "      width: 32px;\n",
              "    }\n",
              "\n",
              "    .colab-df-convert:hover {\n",
              "      background-color: #E2EBFA;\n",
              "      box-shadow: 0px 1px 2px rgba(60, 64, 67, 0.3), 0px 1px 3px 1px rgba(60, 64, 67, 0.15);\n",
              "      fill: #174EA6;\n",
              "    }\n",
              "\n",
              "    [theme=dark] .colab-df-convert {\n",
              "      background-color: #3B4455;\n",
              "      fill: #D2E3FC;\n",
              "    }\n",
              "\n",
              "    [theme=dark] .colab-df-convert:hover {\n",
              "      background-color: #434B5C;\n",
              "      box-shadow: 0px 1px 3px 1px rgba(0, 0, 0, 0.15);\n",
              "      filter: drop-shadow(0px 1px 2px rgba(0, 0, 0, 0.3));\n",
              "      fill: #FFFFFF;\n",
              "    }\n",
              "  </style>\n",
              "\n",
              "      <script>\n",
              "        const buttonEl =\n",
              "          document.querySelector('#df-d934da05-0d01-4bdf-8827-90f0e6ae99ef button.colab-df-convert');\n",
              "        buttonEl.style.display =\n",
              "          google.colab.kernel.accessAllowed ? 'block' : 'none';\n",
              "\n",
              "        async function convertToInteractive(key) {\n",
              "          const element = document.querySelector('#df-d934da05-0d01-4bdf-8827-90f0e6ae99ef');\n",
              "          const dataTable =\n",
              "            await google.colab.kernel.invokeFunction('convertToInteractive',\n",
              "                                                     [key], {});\n",
              "          if (!dataTable) return;\n",
              "\n",
              "          const docLinkHtml = 'Like what you see? Visit the ' +\n",
              "            '<a target=\"_blank\" href=https://colab.research.google.com/notebooks/data_table.ipynb>data table notebook</a>'\n",
              "            + ' to learn more about interactive tables.';\n",
              "          element.innerHTML = '';\n",
              "          dataTable['output_type'] = 'display_data';\n",
              "          await google.colab.output.renderOutput(dataTable, element);\n",
              "          const docLink = document.createElement('div');\n",
              "          docLink.innerHTML = docLinkHtml;\n",
              "          element.appendChild(docLink);\n",
              "        }\n",
              "      </script>\n",
              "    </div>\n",
              "  </div>\n",
              "  "
            ]
          },
          "metadata": {},
          "execution_count": 52
        }
      ]
    },
    {
      "cell_type": "code",
      "source": [
        "if \"coco\" in df1[\"titulo\"].values:\n",
        "    print(\"La pelicula 'coco' existe en las plataformas .\")\n",
        "else:\n",
        "    print(\"La pelicula 'coco' no existe en las plataformas.\")\n"
      ],
      "metadata": {
        "colab": {
          "base_uri": "https://localhost:8080/"
        },
        "id": "ZkgMLv1H6NRS",
        "outputId": "bdcbcfe4-9e83-4d63-b6cd-2b70c262fbd8"
      },
      "execution_count": 55,
      "outputs": [
        {
          "output_type": "stream",
          "name": "stdout",
          "text": [
            "La pelicula 'coco' existe en las plataformas .\n"
          ]
        }
      ]
    },
    {
      "cell_type": "code",
      "execution_count": 56,
      "metadata": {
        "id": "fmuB3mVyo1vM"
      },
      "outputs": [],
      "source": [
        "def get_max_duration(year, platform, duration_type):\n",
        "    # Filtramos las películas del año, plataforma y tipo de duración específicos\n",
        "    filtered_df = df1[(df1['tipo'] == 'movie') & (df1['año_realiacion'] == year) & \n",
        "                            (df1['plataforma'] == platform) & (df1['duration_type'] == duration_type)]\n",
        "    \n",
        "    # Ordenamos por duración de mayor a menor y seleccionamos el primer título (el de mayor duración)\n",
        "    max_duration_movie = filtered_df.sort_values(by='duration_int', ascending=False).iloc[0]['titulo']\n",
        "    return max_duration_movie\n"
      ]
    },
    {
      "cell_type": "code",
      "execution_count": 57,
      "metadata": {
        "colab": {
          "base_uri": "https://localhost:8080/",
          "height": 35
        },
        "id": "ZpSIhITmo1vN",
        "outputId": "f9fe8761-7800-4eb3-fa9b-930cd97b7c36"
      },
      "outputs": [
        {
          "output_type": "execute_result",
          "data": {
            "text/plain": [
              "'the gospel of matthew'"
            ],
            "application/vnd.google.colaboratory.intrinsic+json": {
              "type": "string"
            }
          },
          "metadata": {},
          "execution_count": 57
        }
      ],
      "source": [
        "get_max_duration(2014,'netflix','min')\n",
        "\n"
      ]
    },
    {
      "cell_type": "markdown",
      "metadata": {
        "id": "ZmAvnYoNo1vO"
      },
      "source": [
        "2)Cantidad de películas (sólo películas, no series, etc) según plataforma, con un puntaje mayor a XX en determinado año. La función debe llamarse get_score_count(platform, scored, year) y debe devolver un int, con el total de películas que cumplen lo solicitado."
      ]
    },
    {
      "cell_type": "code",
      "execution_count": 58,
      "metadata": {
        "id": "ZGA9htsxo1vQ"
      },
      "outputs": [],
      "source": [
        "def get_score_count(platform, scored, year):\n",
        "    # filtrar las películas según plataforma, puntaje y año\n",
        "    pelis_por_puntaje = df1[(df1[\"plataforma\"] == platform) & (df1[\"puntuacion\"] >= scored) & (df1[\"tipo\"] == \"movie\") & (df1[\"año_realiacion\"] == year)]\n",
        "    \n",
        "    # contar la cantidad de películas\n",
        "    count = len(pelis_por_puntaje)\n",
        "    \n",
        "    return count\n"
      ]
    },
    {
      "cell_type": "code",
      "execution_count": 59,
      "metadata": {
        "colab": {
          "base_uri": "https://localhost:8080/"
        },
        "id": "tTDcypvto1vR",
        "outputId": "1c3991d5-dd65-46a5-b213-e657362da6b9"
      },
      "outputs": [
        {
          "output_type": "stream",
          "name": "stdout",
          "text": [
            "101\n"
          ]
        }
      ],
      "source": [
        "count = get_score_count(\"netflix\", 3.55, 2014)\n",
        "print(count)\n"
      ]
    },
    {
      "cell_type": "markdown",
      "source": [
        "3)Cantidad de películas (sólo películas, no series, etc) según plataforma. La función debe llamarse get_count_platform(platform) y debe devolver un int, con el número total de películas de esa plataforma. Las plataformas deben llamarse amazon, netflix, hulu, disney."
      ],
      "metadata": {
        "id": "qI4bQ8XT5f8o"
      }
    },
    {
      "cell_type": "code",
      "source": [
        "def get_count_platform(platform):\n",
        "    # Filtrar solo películas\n",
        "    df_movies = df1.loc[df1['tipo'] == 'movie']\n",
        "\n",
        "    # Filtrar por plataforma\n",
        "    df_filtered = df_movies.query(\"plataforma == @platform\")\n",
        "\n",
        "    # Contar el número de películas resultantes\n",
        "    count = len(df_filtered)\n",
        "\n",
        "    return count\n"
      ],
      "metadata": {
        "id": "2iYf7eXZ6qH5"
      },
      "execution_count": 60,
      "outputs": []
    },
    {
      "cell_type": "code",
      "source": [
        "count = get_count_platform('amazon')\n",
        "count\n"
      ],
      "metadata": {
        "colab": {
          "base_uri": "https://localhost:8080/"
        },
        "id": "Sh0n_-AM6wm0",
        "outputId": "2438cc7c-d489-4a6a-95a8-e8b709334414"
      },
      "execution_count": 61,
      "outputs": [
        {
          "output_type": "execute_result",
          "data": {
            "text/plain": [
              "7814"
            ]
          },
          "metadata": {},
          "execution_count": 61
        }
      ]
    },
    {
      "cell_type": "markdown",
      "source": [
        "4)Actor que más se repite según plataforma y año. La función debe llamarse get_actor(platform, year) y debe devolver sólo el string con el nombre del actor que más se repite según la plataforma y el año dado."
      ],
      "metadata": {
        "id": "6U96LRrF72dW"
      }
    },
    {
      "cell_type": "code",
      "source": [
        "def get_actor(platform: str, year: int):\n",
        "    platforms = [\"amazon\", \"disney\", \"hulu\", \"netflix\"]\n",
        "    if platform not in platforms:\n",
        "        return (\"Plataforma incorrecta! Debe ingresar una de las siguientes: amazon, disney, hulu, netflix\")\n",
        "    # Verificar que el año esté dentro del rango válido\n",
        "    if year is not None and year < 1916:\n",
        "        raise ValueError(\"El año debe de ser mayor a 1920\")\n",
        "    # Filtrar las películas para la plataforma y año especificado\n",
        "    df_filtered = df1[(df1.plataforma == platform) & (df1.año_realiacion == year)]\n",
        "         # Poner el cast en un array para poder hacer el recorrido\n",
        "    df_cast_filtered= df_filtered.assign(actor=df_filtered.elenco.str.split(',')).explode('elenco')\n",
        "    # Contar la cantidad de apariciones de cada actor\n",
        "    actor_count = df_cast_filtered.elenco.value_counts()\n",
        "    # Obtener el actor que más se repite y su cantidad de apariciones\n",
        "    max_actor = actor_count.index[0]\n",
        "    max_count = int(actor_count.iloc[0])\n",
        "    actor = dict({'actor': max_actor, 'count': max_count})\n",
        "\n",
        "    return actor"
      ],
      "metadata": {
        "id": "-CE6ObOyMbhF"
      },
      "execution_count": 62,
      "outputs": []
    },
    {
      "cell_type": "code",
      "source": [
        "g = get_actor('disney',2016)\n",
        "g"
      ],
      "metadata": {
        "colab": {
          "base_uri": "https://localhost:8080/"
        },
        "id": "Q4X2_p0kCki-",
        "outputId": "e7b8804d-524c-4ed9-9a40-587f1e96777f"
      },
      "execution_count": 65,
      "outputs": [
        {
          "output_type": "execute_result",
          "data": {
            "text/plain": [
              "{'actor': 'chris diamantopoulos, tony anselmo, tress macneille, bill farmer, russi taylor, corey burton',\n",
              " 'count': 1}"
            ]
          },
          "metadata": {},
          "execution_count": 65
        }
      ]
    },
    {
      "cell_type": "markdown",
      "source": [
        "5)La cantidad de contenidos/productos (todo lo disponible en streaming) que se publicó por país y año. La función debe llamarse prod_per_county(tipo,pais,anio) deberia devolver la cantidada de contenidos/productos segun el tipo de contenido (pelicula,serie) por pais y año en un diccionario con las variables llamadas 'pais' (nombre del pais), 'anio' (año), 'pelicula' (cantidad de contenidos/productos)."
      ],
      "metadata": {
        "id": "Js9b6lEijRNX"
      }
    },
    {
      "cell_type": "code",
      "source": [
        "#este funciono api\n",
        "def prodper_country(tipo, pais, anio):\n",
        "    # Leer el DataFrame\n",
        "    #df1 = pd.read_csv('nombre_del_archivo.csv') # reemplazar por el nombre del archivo\n",
        "    \n",
        "    # Filtrar por tipo, país y año\n",
        "    df_filt = df1[(df1['tipo'] == tipo) & (df1['pais'] == pais) & (df1['año_realiacion'] == anio)]\n",
        "    \n",
        "    # Contar la cantidad de productos\n",
        "    num_prods = len(df_filt)\n",
        "    \n",
        "    # Crear un diccionario con el resultado\n",
        "    resultado = {'pais': pais, 'anio': anio, 'pelicula': num_prods} \n",
        "    return resultado\n"
      ],
      "metadata": {
        "id": "ZMY1zIunpQrC"
      },
      "execution_count": 66,
      "outputs": []
    },
    {
      "cell_type": "code",
      "source": [
        "prodper_country('movie','canada',2014)"
      ],
      "metadata": {
        "colab": {
          "base_uri": "https://localhost:8080/"
        },
        "id": "WpZPcvhIo8yM",
        "outputId": "041762a6-bffe-4a22-a753-717f68c5ddad"
      },
      "execution_count": 68,
      "outputs": [
        {
          "output_type": "execute_result",
          "data": {
            "text/plain": [
              "{'pais': 'canada', 'anio': 2014, 'pelicula': 10}"
            ]
          },
          "metadata": {},
          "execution_count": 68
        }
      ]
    },
    {
      "cell_type": "markdown",
      "source": [
        "6)La cantidad total de contenidos/productos (todo lo disponible en streaming, series, peliculas, etc) según el rating de audiencia dado (para que publico fue clasificada la pelicula). La función debe llamarse get_contents(rating) y debe devolver el numero total de contenido con ese rating de audiencias."
      ],
      "metadata": {
        "id": "7aRYZtyMjZ4R"
      }
    },
    {
      "cell_type": "code",
      "source": [
        "#esta funciona en api\n",
        "def getcontents(rating):\n",
        "    # Contar cuántas veces aparece cada rating de audiencia\n",
        "    rating_counts = df1['clasificacion'].value_counts()\n",
        "    \n",
        "    # Filtrar el DataFrame por el rating de audiencia deseado\n",
        "    filtered_df = df1[df1['clasificacion'] == rating]\n",
        "    \n",
        "    # Contar cuántas filas quedan\n",
        "    num_contents = len(filtered_df)\n",
        "    \n",
        "    # Devolver el número total de contenido con ese rating de audiencia\n",
        "    return num_contents\n"
      ],
      "metadata": {
        "id": "iIwqRyPJuffC"
      },
      "execution_count": 69,
      "outputs": []
    },
    {
      "cell_type": "code",
      "source": [
        "getcontents('g')"
      ],
      "metadata": {
        "colab": {
          "base_uri": "https://localhost:8080/"
        },
        "id": "bV2BTm4LupS3",
        "outputId": "a5185a9a-5ac9-4593-ae8d-460fa99314a4"
      },
      "execution_count": 70,
      "outputs": [
        {
          "output_type": "execute_result",
          "data": {
            "text/plain": [
              "1269"
            ]
          },
          "metadata": {},
          "execution_count": 70
        }
      ]
    },
    {
      "cell_type": "code",
      "source": [
        "def get_contents(rating):\n",
        "    # Obtener la cantidad de contenidos/productos por rating de audiencia\n",
        "    count_by_rating = df1['clasificacion'].value_counts()\n",
        "    \n",
        "    # Obtener la cantidad correspondiente al rating especificado en la función\n",
        "    count = count_by_rating[rating]\n",
        "    \n",
        "    return count\n"
      ],
      "metadata": {
        "id": "GbMsSxUfj_Wo"
      },
      "execution_count": null,
      "outputs": []
    },
    {
      "cell_type": "code",
      "source": [
        "d = get_contents('g')\n",
        "d"
      ],
      "metadata": {
        "colab": {
          "base_uri": "https://localhost:8080/"
        },
        "id": "AkrGwZ07oLZF",
        "outputId": "95b52cb5-446f-4a03-ab4e-8d1592d16656"
      },
      "execution_count": null,
      "outputs": [
        {
          "output_type": "execute_result",
          "data": {
            "text/plain": [
              "1269"
            ]
          },
          "metadata": {},
          "execution_count": 141
        }
      ]
    },
    {
      "cell_type": "markdown",
      "source": [
        "corrí todos los códigos, no sabia que debia dejarlos asi, le pregunte al coordinador Pablo Romero antes. hoy viernes 21 de abril, para no crear confición ya que cumpli con la fecha de entrega en tiempo, pero no la forma indicada.Saludos cordiales."
      ],
      "metadata": {
        "id": "Of2rY1uL2SSZ"
      }
    }
  ],
  "metadata": {
    "kernelspec": {
      "display_name": "Python 3",
      "language": "python",
      "name": "python3"
    },
    "language_info": {
      "codemirror_mode": {
        "name": "ipython",
        "version": 3
      },
      "file_extension": ".py",
      "mimetype": "text/x-python",
      "name": "python",
      "nbconvert_exporter": "python",
      "pygments_lexer": "ipython3",
      "version": "3.10.10"
    },
    "orig_nbformat": 4,
    "colab": {
      "provenance": [],
      "include_colab_link": true
    }
  },
  "nbformat": 4,
  "nbformat_minor": 0
}