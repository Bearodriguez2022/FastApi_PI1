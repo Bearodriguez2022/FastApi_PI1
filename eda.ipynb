{
  "cells": [
    {
      "cell_type": "markdown",
      "metadata": {
        "id": "view-in-github",
        "colab_type": "text"
      },
      "source": [
        "<a href=\"https://colab.research.google.com/github/Bearodriguez2022/FastApi_PI1/blob/master/eda.ipynb\" target=\"_parent\"><img src=\"https://colab.research.google.com/assets/colab-badge.svg\" alt=\"Open In Colab\"/></a>"
      ]
    },
    {
      "cell_type": "code",
      "execution_count": 1,
      "metadata": {
        "id": "8d4TeO-0o1tG"
      },
      "outputs": [],
      "source": [
        "import pandas as pd"
      ]
    },
    {
      "cell_type": "markdown",
      "metadata": {
        "id": "8_cNiMGro1tf"
      },
      "source": [
        "Ingesta de datos:"
      ]
    },
    {
      "cell_type": "code",
      "source": [
        "from google.colab import drive\n",
        "drive.mount('/content/drive')"
      ],
      "metadata": {
        "colab": {
          "base_uri": "https://localhost:8080/"
        },
        "id": "RC6wKpw0pIs8",
        "outputId": "fd8bfb16-517d-4c5a-8444-13d710a54113"
      },
      "execution_count": 2,
      "outputs": [
        {
          "output_type": "stream",
          "name": "stdout",
          "text": [
            "Mounted at /content/drive\n"
          ]
        }
      ]
    },
    {
      "cell_type": "code",
      "execution_count": 3,
      "metadata": {
        "id": "ay2wfcfbo1th"
      },
      "outputs": [],
      "source": [
        "amazon = pd.read_csv('/content/drive/MyDrive/PI_1.2/Data1.2/amazon_prime_titles.csv')"
      ]
    },
    {
      "cell_type": "code",
      "execution_count": 4,
      "metadata": {
        "colab": {
          "base_uri": "https://localhost:8080/"
        },
        "id": "tajbi_hso1tj",
        "outputId": "cb10d603-287a-4c76-f4e2-3cedb2279fee"
      },
      "outputs": [
        {
          "output_type": "execute_result",
          "data": {
            "text/plain": [
              "0"
            ]
          },
          "metadata": {},
          "execution_count": 4
        }
      ],
      "source": [
        "amazon['duration'].isna().sum()"
      ]
    },
    {
      "cell_type": "markdown",
      "metadata": {
        "id": "dkWYnHAyo1tr"
      },
      "source": [
        "La columna duration se divide en 'duration_int', 'duration_type':"
      ]
    },
    {
      "cell_type": "code",
      "execution_count": 5,
      "metadata": {
        "id": "9zLY1ozxo1tv"
      },
      "outputs": [],
      "source": [
        "amazon[['duration_int', 'duration_type']] = amazon['duration'].str.split(' ', expand=True)"
      ]
    },
    {
      "cell_type": "code",
      "execution_count": 6,
      "metadata": {
        "colab": {
          "base_uri": "https://localhost:8080/"
        },
        "id": "jIRi5TOFo1ty",
        "outputId": "b65ed973-256e-4069-c1c4-4201bb48ad32"
      },
      "outputs": [
        {
          "output_type": "execute_result",
          "data": {
            "text/plain": [
              "dtype('O')"
            ]
          },
          "metadata": {},
          "execution_count": 6
        }
      ],
      "source": [
        "amazon['duration_int'].dtype"
      ]
    },
    {
      "cell_type": "markdown",
      "metadata": {
        "id": "mVUQ8CNao1t2"
      },
      "source": [
        "Las nuevas columnas son de tipo 'objet', las cambio a 'int32' y 'str' respectivamente"
      ]
    },
    {
      "cell_type": "code",
      "execution_count": 7,
      "metadata": {
        "id": "TWwAyfQco1t4"
      },
      "outputs": [],
      "source": [
        "amazon['duration_int'] = amazon['duration_int'].astype('int32')"
      ]
    },
    {
      "cell_type": "code",
      "execution_count": 8,
      "metadata": {
        "id": "o3SNo_QAo1t6"
      },
      "outputs": [],
      "source": [
        "amazon['duration_type'] = amazon['duration_type'].astype('str')"
      ]
    },
    {
      "cell_type": "markdown",
      "metadata": {
        "id": "6qio23ujo1t8"
      },
      "source": [
        "Repito los pasos de ingesta de datos, división de columna 'duration' y transformación de datos 'o' a 'int' y 'str' en cada uno de los archivos de plataformas"
      ]
    },
    {
      "cell_type": "code",
      "execution_count": 9,
      "metadata": {
        "id": "5xquJBdho1t-"
      },
      "outputs": [],
      "source": [
        "disney = pd.read_csv('/content/drive/MyDrive/PI_1.2/Data1.2/disney_plus_titles.csv')"
      ]
    },
    {
      "cell_type": "code",
      "execution_count": null,
      "metadata": {
        "id": "gyxbCTYDo1uA"
      },
      "outputs": [],
      "source": [
        "disney.info()"
      ]
    },
    {
      "cell_type": "code",
      "execution_count": 10,
      "metadata": {
        "id": "I_4rFU32o1uC"
      },
      "outputs": [],
      "source": [
        "disney[['duration_int', 'duration_type']] = disney['duration'].str.split(' ', expand=True)"
      ]
    },
    {
      "cell_type": "code",
      "execution_count": 11,
      "metadata": {
        "id": "OuqTiT9ro1uE"
      },
      "outputs": [],
      "source": [
        "disney['duration_int'] = disney['duration_int'].astype('int32')\n"
      ]
    },
    {
      "cell_type": "code",
      "execution_count": 12,
      "metadata": {
        "id": "SH-2aVTMo1uI"
      },
      "outputs": [],
      "source": [
        "disney['duration_type'] = disney['duration_type'].astype('str')"
      ]
    },
    {
      "cell_type": "code",
      "execution_count": 13,
      "metadata": {
        "id": "B6OWllEbo1uJ"
      },
      "outputs": [],
      "source": [
        "hulu = pd.read_csv('/content/drive/MyDrive/PI_1.2/Data1.2/hulu_titles.csv')"
      ]
    },
    {
      "cell_type": "code",
      "execution_count": null,
      "metadata": {
        "id": "pwU1r48po1uL"
      },
      "outputs": [],
      "source": [
        "hulu.isna().sum()"
      ]
    },
    {
      "cell_type": "code",
      "execution_count": null,
      "metadata": {
        "id": "e4nw7mhzo1uN"
      },
      "outputs": [],
      "source": [
        "hulu.fillna(0)"
      ]
    },
    {
      "cell_type": "code",
      "execution_count": 15,
      "metadata": {
        "id": "IZrOAgfvo1uO"
      },
      "outputs": [],
      "source": [
        "hulu[['duration_int', 'duration_type']] =hulu['duration'].str.split(' ', expand=True)"
      ]
    },
    {
      "cell_type": "code",
      "execution_count": 16,
      "metadata": {
        "id": "rU4cXtTdo1uP"
      },
      "outputs": [],
      "source": [
        "hulu['duration_int'] = hulu['duration_int'].astype('Int32')"
      ]
    },
    {
      "cell_type": "code",
      "execution_count": 17,
      "metadata": {
        "id": "1_H9PN3go1uR"
      },
      "outputs": [],
      "source": [
        "hulu['duration_type'] = hulu['duration_type'].astype('str')"
      ]
    },
    {
      "cell_type": "code",
      "execution_count": 18,
      "metadata": {
        "id": "WNzizpGUo1uS"
      },
      "outputs": [],
      "source": [
        "netflix = pd.read_csv('/content/drive/MyDrive/PI_1.2/Data1.2/netflix_titles.csv')"
      ]
    },
    {
      "cell_type": "code",
      "execution_count": null,
      "metadata": {
        "id": "YF7WCn8io1uT"
      },
      "outputs": [],
      "source": [
        "netflix.info()"
      ]
    },
    {
      "cell_type": "code",
      "execution_count": 19,
      "metadata": {
        "id": "-QeOteQ8o1uU"
      },
      "outputs": [],
      "source": [
        "netflix['duration'] =netflix['duration'].dropna()"
      ]
    },
    {
      "cell_type": "code",
      "execution_count": 20,
      "metadata": {
        "id": "jvmoYdpmo1uX"
      },
      "outputs": [],
      "source": [
        "netflix[['duration_int', 'duration_type']] =netflix['duration'].str.split(' ', expand=True)"
      ]
    },
    {
      "cell_type": "code",
      "execution_count": 21,
      "metadata": {
        "id": "j5JMn1Dio1uZ"
      },
      "outputs": [],
      "source": [
        "netflix['duration_int'] =netflix['duration_int'].fillna(0).astype('int32')"
      ]
    },
    {
      "cell_type": "code",
      "execution_count": 22,
      "metadata": {
        "id": "zqjY_Y7io1ua"
      },
      "outputs": [],
      "source": [
        "netflix['duration_type'] = netflix['duration_type'].astype('str')"
      ]
    },
    {
      "cell_type": "markdown",
      "metadata": {
        "id": "2MKc8MSho1ub"
      },
      "source": [
        "Antes de concatenar los df concidero poner el nombre a cada plataforma para una mejor identificación"
      ]
    },
    {
      "cell_type": "code",
      "execution_count": 23,
      "metadata": {
        "id": "5mRNrQoyo1uc"
      },
      "outputs": [],
      "source": [
        "amazon['plataforma'] = 'amazon'\n",
        "disney['plataforma'] = 'disney'\n",
        "hulu['plataforma'] = 'hulu'\n",
        "netflix['plataforma'] = 'netflix'"
      ]
    },
    {
      "cell_type": "markdown",
      "metadata": {
        "id": "YySQAWXMo1ue"
      },
      "source": [
        "Consignas a cumplir:\n",
        "*Generar campo id: Cada id se compondrá de la primera letra del nombre de la plataforma, seguido del show_id ya presente en los datasets (ejemplo para títulos de Amazon = as123)"
      ]
    },
    {
      "cell_type": "code",
      "execution_count": 24,
      "metadata": {
        "id": "HH4fxQggo1uf"
      },
      "outputs": [],
      "source": [
        "amazon['id'] = 'a' + amazon['show_id']\n",
        "disney['id'] = 'd' + disney['show_id']\n",
        "hulu['id'] = 'h' + hulu['show_id']\n",
        "netflix['id'] = 'n' + netflix['show_id']"
      ]
    },
    {
      "cell_type": "markdown",
      "metadata": {
        "id": "hDXQDA5yo1ui"
      },
      "source": [
        "Ahora concateno los df para poder trabajar con ellos de forma mas práctica"
      ]
    },
    {
      "cell_type": "code",
      "execution_count": 25,
      "metadata": {
        "id": "cXBt17voo1uj"
      },
      "outputs": [],
      "source": [
        "streaming = pd.concat([amazon, disney, hulu,netflix])"
      ]
    },
    {
      "cell_type": "markdown",
      "metadata": {
        "id": "FH6lW6oDo1uj"
      },
      "source": [
        "*Los valores nulos del campo rating deberán reemplazarse por el string “G” (corresponde al maturity rating: “general for all audiences”)\n",
        "\n"
      ]
    },
    {
      "cell_type": "code",
      "execution_count": 26,
      "metadata": {
        "id": "2gIqvsPjo1ul"
      },
      "outputs": [],
      "source": [
        "streaming['rating'] = streaming['rating'].fillna('G')"
      ]
    },
    {
      "cell_type": "markdown",
      "metadata": {
        "id": "pBaxxM0Oo1um"
      },
      "source": [
        "*De haber fechas, deberán tener el formato AAAA-mm-dd"
      ]
    },
    {
      "cell_type": "code",
      "execution_count": 27,
      "metadata": {
        "id": "C4nOIe-Oo1un"
      },
      "outputs": [],
      "source": [
        "streaming['date_added'] = pd.to_datetime(streaming['date_added'])"
      ]
    },
    {
      "cell_type": "markdown",
      "metadata": {
        "id": "bAYfDpyso1uo"
      },
      "source": [
        "*Los campos de texto deberán estar en minúsculas, sin excepciones"
      ]
    },
    {
      "cell_type": "code",
      "execution_count": 28,
      "metadata": {
        "id": "PXOQ7ykdo1uo"
      },
      "outputs": [],
      "source": [
        "streaming = streaming.apply(lambda x: x.astype(str).str.lower() if x.dtype == 'object' else x)"
      ]
    },
    {
      "cell_type": "markdown",
      "metadata": {
        "id": "63MM_3__o1up"
      },
      "source": [
        "*El campo duration debe convertirse en dos campos: duration_int y duration_type. El primero será un integer y el segundo un string indicando la unidad de medición de duración: min (minutos) o season (temporadas).Este paso lo realice en cada df por separado."
      ]
    },
    {
      "cell_type": "code",
      "execution_count": null,
      "metadata": {
        "id": "wccK795go1uq"
      },
      "outputs": [],
      "source": [
        "streaming.columns"
      ]
    },
    {
      "cell_type": "code",
      "source": [
        "#aca convierto a csv \n",
        "streaming.to_csv('datos.csv', sep=',', encoding='utf-8', index=False)"
      ],
      "metadata": {
        "id": "doATxr3FRUMT"
      },
      "execution_count": 29,
      "outputs": []
    },
    {
      "cell_type": "markdown",
      "metadata": {
        "id": "ATOsGQBTo1us"
      },
      "source": [
        "Aqui concateno rating "
      ]
    },
    {
      "cell_type": "code",
      "execution_count": 30,
      "metadata": {
        "id": "fvWtPRfBo1ut"
      },
      "outputs": [],
      "source": [
        "r_1 = pd.read_csv('/content/drive/MyDrive/PI_1.2/Data1.2/ratings/1.csv') \n",
        "r_2 = pd.read_csv('/content/drive/MyDrive/PI_1.2/Data1.2/ratings/2.csv')\n",
        "r_3 = pd.read_csv('/content/drive/MyDrive/PI_1.2/Data1.2/ratings/3.csv')\n",
        "r_4 = pd.read_csv('/content/drive/MyDrive/PI_1.2/Data1.2/ratings/4.csv')\n",
        "r_5 = pd.read_csv('/content/drive/MyDrive/PI_1.2/Data1.2/ratings/5.csv')\n",
        "r_6 = pd.read_csv('/content/drive/MyDrive/PI_1.2/Data1.2/ratings/6.csv')\n",
        "r_7 = pd.read_csv('/content/drive/MyDrive/PI_1.2/Data1.2/ratings/7.csv')\n",
        "r_8 = pd.read_csv('/content/drive/MyDrive/PI_1.2/Data1.2/ratings/8.csv')"
      ]
    },
    {
      "cell_type": "code",
      "execution_count": null,
      "metadata": {
        "id": "dVzNVFLto1uu"
      },
      "outputs": [],
      "source": [
        "r_1.head()"
      ]
    },
    {
      "cell_type": "code",
      "execution_count": 31,
      "metadata": {
        "id": "ePExX7Ino1uv"
      },
      "outputs": [],
      "source": [
        "score = pd.concat([r_1,r_2,r_3,r_4,r_5,r_6,r_7,r_8])"
      ]
    },
    {
      "cell_type": "markdown",
      "metadata": {
        "id": "BYYcmHNvo1uw"
      },
      "source": [
        "Aca convierto la columna timestamp a formato AAAA-mm-dd"
      ]
    },
    {
      "cell_type": "code",
      "execution_count": 32,
      "metadata": {
        "id": "te60P66_o1ux"
      },
      "outputs": [],
      "source": [
        "score['timestamp'] = pd.to_datetime(score['timestamp'])"
      ]
    },
    {
      "cell_type": "code",
      "execution_count": 33,
      "metadata": {
        "id": "EMQ2hBxqo1uz"
      },
      "outputs": [],
      "source": [
        "# convertir la columna de timestamp a un objeto datetime\n",
        "score['timestamp'] = pd.to_datetime(score['timestamp'])\n",
        "\n",
        "# extraer solo la marca_temporal de la columna de timestamp\n",
        "score['marca_temporal'] = score['timestamp'].dt.date\n",
        "\n",
        "# convertir la marca_temporal de vuelta a una cadena de texto con el formato deseado\n",
        "score['marca_temporal'] = score['marca_temporal'].apply(lambda x: x.strftime('%Y-%m-%d'))\n"
      ]
    },
    {
      "cell_type": "code",
      "execution_count": 34,
      "metadata": {
        "id": "EW_vZIceo1uy",
        "colab": {
          "base_uri": "https://localhost:8080/",
          "height": 112
        },
        "outputId": "bd4fee01-bb7c-460c-8a89-5f07ebf78984"
      },
      "outputs": [
        {
          "output_type": "execute_result",
          "data": {
            "text/plain": [
              "   userId  rating                     timestamp movieId marca_temporal\n",
              "0       1     1.0 1970-01-01 00:00:01.425941529   as680     1970-01-01\n",
              "1       1     4.5 1970-01-01 00:00:01.425942435  ns2186     1970-01-01"
            ],
            "text/html": [
              "\n",
              "  <div id=\"df-0692c918-6410-44b3-ba19-5ba05cff4e71\">\n",
              "    <div class=\"colab-df-container\">\n",
              "      <div>\n",
              "<style scoped>\n",
              "    .dataframe tbody tr th:only-of-type {\n",
              "        vertical-align: middle;\n",
              "    }\n",
              "\n",
              "    .dataframe tbody tr th {\n",
              "        vertical-align: top;\n",
              "    }\n",
              "\n",
              "    .dataframe thead th {\n",
              "        text-align: right;\n",
              "    }\n",
              "</style>\n",
              "<table border=\"1\" class=\"dataframe\">\n",
              "  <thead>\n",
              "    <tr style=\"text-align: right;\">\n",
              "      <th></th>\n",
              "      <th>userId</th>\n",
              "      <th>rating</th>\n",
              "      <th>timestamp</th>\n",
              "      <th>movieId</th>\n",
              "      <th>marca_temporal</th>\n",
              "    </tr>\n",
              "  </thead>\n",
              "  <tbody>\n",
              "    <tr>\n",
              "      <th>0</th>\n",
              "      <td>1</td>\n",
              "      <td>1.0</td>\n",
              "      <td>1970-01-01 00:00:01.425941529</td>\n",
              "      <td>as680</td>\n",
              "      <td>1970-01-01</td>\n",
              "    </tr>\n",
              "    <tr>\n",
              "      <th>1</th>\n",
              "      <td>1</td>\n",
              "      <td>4.5</td>\n",
              "      <td>1970-01-01 00:00:01.425942435</td>\n",
              "      <td>ns2186</td>\n",
              "      <td>1970-01-01</td>\n",
              "    </tr>\n",
              "  </tbody>\n",
              "</table>\n",
              "</div>\n",
              "      <button class=\"colab-df-convert\" onclick=\"convertToInteractive('df-0692c918-6410-44b3-ba19-5ba05cff4e71')\"\n",
              "              title=\"Convert this dataframe to an interactive table.\"\n",
              "              style=\"display:none;\">\n",
              "        \n",
              "  <svg xmlns=\"http://www.w3.org/2000/svg\" height=\"24px\"viewBox=\"0 0 24 24\"\n",
              "       width=\"24px\">\n",
              "    <path d=\"M0 0h24v24H0V0z\" fill=\"none\"/>\n",
              "    <path d=\"M18.56 5.44l.94 2.06.94-2.06 2.06-.94-2.06-.94-.94-2.06-.94 2.06-2.06.94zm-11 1L8.5 8.5l.94-2.06 2.06-.94-2.06-.94L8.5 2.5l-.94 2.06-2.06.94zm10 10l.94 2.06.94-2.06 2.06-.94-2.06-.94-.94-2.06-.94 2.06-2.06.94z\"/><path d=\"M17.41 7.96l-1.37-1.37c-.4-.4-.92-.59-1.43-.59-.52 0-1.04.2-1.43.59L10.3 9.45l-7.72 7.72c-.78.78-.78 2.05 0 2.83L4 21.41c.39.39.9.59 1.41.59.51 0 1.02-.2 1.41-.59l7.78-7.78 2.81-2.81c.8-.78.8-2.07 0-2.86zM5.41 20L4 18.59l7.72-7.72 1.47 1.35L5.41 20z\"/>\n",
              "  </svg>\n",
              "      </button>\n",
              "      \n",
              "  <style>\n",
              "    .colab-df-container {\n",
              "      display:flex;\n",
              "      flex-wrap:wrap;\n",
              "      gap: 12px;\n",
              "    }\n",
              "\n",
              "    .colab-df-convert {\n",
              "      background-color: #E8F0FE;\n",
              "      border: none;\n",
              "      border-radius: 50%;\n",
              "      cursor: pointer;\n",
              "      display: none;\n",
              "      fill: #1967D2;\n",
              "      height: 32px;\n",
              "      padding: 0 0 0 0;\n",
              "      width: 32px;\n",
              "    }\n",
              "\n",
              "    .colab-df-convert:hover {\n",
              "      background-color: #E2EBFA;\n",
              "      box-shadow: 0px 1px 2px rgba(60, 64, 67, 0.3), 0px 1px 3px 1px rgba(60, 64, 67, 0.15);\n",
              "      fill: #174EA6;\n",
              "    }\n",
              "\n",
              "    [theme=dark] .colab-df-convert {\n",
              "      background-color: #3B4455;\n",
              "      fill: #D2E3FC;\n",
              "    }\n",
              "\n",
              "    [theme=dark] .colab-df-convert:hover {\n",
              "      background-color: #434B5C;\n",
              "      box-shadow: 0px 1px 3px 1px rgba(0, 0, 0, 0.15);\n",
              "      filter: drop-shadow(0px 1px 2px rgba(0, 0, 0, 0.3));\n",
              "      fill: #FFFFFF;\n",
              "    }\n",
              "  </style>\n",
              "\n",
              "      <script>\n",
              "        const buttonEl =\n",
              "          document.querySelector('#df-0692c918-6410-44b3-ba19-5ba05cff4e71 button.colab-df-convert');\n",
              "        buttonEl.style.display =\n",
              "          google.colab.kernel.accessAllowed ? 'block' : 'none';\n",
              "\n",
              "        async function convertToInteractive(key) {\n",
              "          const element = document.querySelector('#df-0692c918-6410-44b3-ba19-5ba05cff4e71');\n",
              "          const dataTable =\n",
              "            await google.colab.kernel.invokeFunction('convertToInteractive',\n",
              "                                                     [key], {});\n",
              "          if (!dataTable) return;\n",
              "\n",
              "          const docLinkHtml = 'Like what you see? Visit the ' +\n",
              "            '<a target=\"_blank\" href=https://colab.research.google.com/notebooks/data_table.ipynb>data table notebook</a>'\n",
              "            + ' to learn more about interactive tables.';\n",
              "          element.innerHTML = '';\n",
              "          dataTable['output_type'] = 'display_data';\n",
              "          await google.colab.output.renderOutput(dataTable, element);\n",
              "          const docLink = document.createElement('div');\n",
              "          docLink.innerHTML = docLinkHtml;\n",
              "          element.appendChild(docLink);\n",
              "        }\n",
              "      </script>\n",
              "    </div>\n",
              "  </div>\n",
              "  "
            ]
          },
          "metadata": {},
          "execution_count": 34
        }
      ],
      "source": [
        "score.head(2)"
      ]
    },
    {
      "cell_type": "code",
      "execution_count": 35,
      "metadata": {
        "id": "mxEXcb3Go1u2"
      },
      "outputs": [],
      "source": [
        "#considero no la voy a necesitar\n",
        "score = score.drop(columns=['timestamp'])"
      ]
    },
    {
      "cell_type": "markdown",
      "metadata": {
        "id": "Ak3NQXtpo1u4"
      },
      "source": [
        "saco promedio por id para que queden la misma cantidad de filas que en el df streaming"
      ]
    },
    {
      "cell_type": "code",
      "source": [
        "prome = score.groupby('movieId')['rating'].mean()\n",
        "\n",
        "prome"
      ],
      "metadata": {
        "id": "PteI4aTmVxHu",
        "colab": {
          "base_uri": "https://localhost:8080/"
        },
        "outputId": "b1aa99ba-da6d-4aa4-86aa-5042f628cb65"
      },
      "execution_count": 36,
      "outputs": [
        {
          "output_type": "execute_result",
          "data": {
            "text/plain": [
              "movieId\n",
              "as1       3.467131\n",
              "as10      3.439571\n",
              "as100     3.609302\n",
              "as1000    3.556701\n",
              "as1001    3.585288\n",
              "            ...   \n",
              "ns995     3.515625\n",
              "ns996     3.626518\n",
              "ns997     3.530526\n",
              "ns998     3.582645\n",
              "ns999     3.494781\n",
              "Name: rating, Length: 22998, dtype: float64"
            ]
          },
          "metadata": {},
          "execution_count": 36
        }
      ]
    },
    {
      "cell_type": "code",
      "source": [
        "#aca verifico si los valores son correctos para concatenar, y el resultado es si\n",
        "comparacion = score['movieId'].isin(streaming['id'])\n",
        "comparacion.unique()\n"
      ],
      "metadata": {
        "colab": {
          "base_uri": "https://localhost:8080/"
        },
        "id": "sB2oysMYaclE",
        "outputId": "56fb44cd-23af-4e2d-9471-c74313b7c592"
      },
      "execution_count": 38,
      "outputs": [
        {
          "output_type": "execute_result",
          "data": {
            "text/plain": [
              "array([ True])"
            ]
          },
          "metadata": {},
          "execution_count": 38
        }
      ]
    },
    {
      "cell_type": "code",
      "execution_count": 40,
      "metadata": {
        "id": "FQ3Ot7-So1u8"
      },
      "outputs": [],
      "source": [
        "#unimos streaming y promedio por pelicula\n",
        "df1 = pd.merge(streaming, prome, left_on='id', right_on='movieId', how='left')"
      ]
    },
    {
      "cell_type": "code",
      "execution_count": 41,
      "metadata": {
        "id": "n1H5GQF5o1u9",
        "colab": {
          "base_uri": "https://localhost:8080/",
          "height": 349
        },
        "outputId": "0405e7c1-d776-458d-ecfd-67cad5a15245"
      },
      "outputs": [
        {
          "output_type": "execute_result",
          "data": {
            "text/plain": [
              "  show_id   type                 title      director  \\\n",
              "0      s1  movie   the grand seduction  don mckellar   \n",
              "1      s2  movie  take care good night  girish joshi   \n",
              "\n",
              "                                               cast country date_added  \\\n",
              "0    brendan gleeson, taylor kitsch, gordon pinsent  canada 2021-03-30   \n",
              "1  mahesh manjrekar, abhay mahajan, sachin khedekar   india 2021-03-30   \n",
              "\n",
              "   release_year rating_x duration             listed_in  \\\n",
              "0          2014        g  113 min         comedy, drama   \n",
              "1          2018      13+  110 min  drama, international   \n",
              "\n",
              "                                         description  duration_int  \\\n",
              "0  a small fishing village must procure a local d...           113   \n",
              "1  a metro family decides to fight a cyber crimin...           110   \n",
              "\n",
              "  duration_type plataforma   id  rating_y  \n",
              "0           min     amazon  as1  3.467131  \n",
              "1           min     amazon  as2  3.548682  "
            ],
            "text/html": [
              "\n",
              "  <div id=\"df-da87f2dd-24bf-47cb-9927-f5ae1f44ca70\">\n",
              "    <div class=\"colab-df-container\">\n",
              "      <div>\n",
              "<style scoped>\n",
              "    .dataframe tbody tr th:only-of-type {\n",
              "        vertical-align: middle;\n",
              "    }\n",
              "\n",
              "    .dataframe tbody tr th {\n",
              "        vertical-align: top;\n",
              "    }\n",
              "\n",
              "    .dataframe thead th {\n",
              "        text-align: right;\n",
              "    }\n",
              "</style>\n",
              "<table border=\"1\" class=\"dataframe\">\n",
              "  <thead>\n",
              "    <tr style=\"text-align: right;\">\n",
              "      <th></th>\n",
              "      <th>show_id</th>\n",
              "      <th>type</th>\n",
              "      <th>title</th>\n",
              "      <th>director</th>\n",
              "      <th>cast</th>\n",
              "      <th>country</th>\n",
              "      <th>date_added</th>\n",
              "      <th>release_year</th>\n",
              "      <th>rating_x</th>\n",
              "      <th>duration</th>\n",
              "      <th>listed_in</th>\n",
              "      <th>description</th>\n",
              "      <th>duration_int</th>\n",
              "      <th>duration_type</th>\n",
              "      <th>plataforma</th>\n",
              "      <th>id</th>\n",
              "      <th>rating_y</th>\n",
              "    </tr>\n",
              "  </thead>\n",
              "  <tbody>\n",
              "    <tr>\n",
              "      <th>0</th>\n",
              "      <td>s1</td>\n",
              "      <td>movie</td>\n",
              "      <td>the grand seduction</td>\n",
              "      <td>don mckellar</td>\n",
              "      <td>brendan gleeson, taylor kitsch, gordon pinsent</td>\n",
              "      <td>canada</td>\n",
              "      <td>2021-03-30</td>\n",
              "      <td>2014</td>\n",
              "      <td>g</td>\n",
              "      <td>113 min</td>\n",
              "      <td>comedy, drama</td>\n",
              "      <td>a small fishing village must procure a local d...</td>\n",
              "      <td>113</td>\n",
              "      <td>min</td>\n",
              "      <td>amazon</td>\n",
              "      <td>as1</td>\n",
              "      <td>3.467131</td>\n",
              "    </tr>\n",
              "    <tr>\n",
              "      <th>1</th>\n",
              "      <td>s2</td>\n",
              "      <td>movie</td>\n",
              "      <td>take care good night</td>\n",
              "      <td>girish joshi</td>\n",
              "      <td>mahesh manjrekar, abhay mahajan, sachin khedekar</td>\n",
              "      <td>india</td>\n",
              "      <td>2021-03-30</td>\n",
              "      <td>2018</td>\n",
              "      <td>13+</td>\n",
              "      <td>110 min</td>\n",
              "      <td>drama, international</td>\n",
              "      <td>a metro family decides to fight a cyber crimin...</td>\n",
              "      <td>110</td>\n",
              "      <td>min</td>\n",
              "      <td>amazon</td>\n",
              "      <td>as2</td>\n",
              "      <td>3.548682</td>\n",
              "    </tr>\n",
              "  </tbody>\n",
              "</table>\n",
              "</div>\n",
              "      <button class=\"colab-df-convert\" onclick=\"convertToInteractive('df-da87f2dd-24bf-47cb-9927-f5ae1f44ca70')\"\n",
              "              title=\"Convert this dataframe to an interactive table.\"\n",
              "              style=\"display:none;\">\n",
              "        \n",
              "  <svg xmlns=\"http://www.w3.org/2000/svg\" height=\"24px\"viewBox=\"0 0 24 24\"\n",
              "       width=\"24px\">\n",
              "    <path d=\"M0 0h24v24H0V0z\" fill=\"none\"/>\n",
              "    <path d=\"M18.56 5.44l.94 2.06.94-2.06 2.06-.94-2.06-.94-.94-2.06-.94 2.06-2.06.94zm-11 1L8.5 8.5l.94-2.06 2.06-.94-2.06-.94L8.5 2.5l-.94 2.06-2.06.94zm10 10l.94 2.06.94-2.06 2.06-.94-2.06-.94-.94-2.06-.94 2.06-2.06.94z\"/><path d=\"M17.41 7.96l-1.37-1.37c-.4-.4-.92-.59-1.43-.59-.52 0-1.04.2-1.43.59L10.3 9.45l-7.72 7.72c-.78.78-.78 2.05 0 2.83L4 21.41c.39.39.9.59 1.41.59.51 0 1.02-.2 1.41-.59l7.78-7.78 2.81-2.81c.8-.78.8-2.07 0-2.86zM5.41 20L4 18.59l7.72-7.72 1.47 1.35L5.41 20z\"/>\n",
              "  </svg>\n",
              "      </button>\n",
              "      \n",
              "  <style>\n",
              "    .colab-df-container {\n",
              "      display:flex;\n",
              "      flex-wrap:wrap;\n",
              "      gap: 12px;\n",
              "    }\n",
              "\n",
              "    .colab-df-convert {\n",
              "      background-color: #E8F0FE;\n",
              "      border: none;\n",
              "      border-radius: 50%;\n",
              "      cursor: pointer;\n",
              "      display: none;\n",
              "      fill: #1967D2;\n",
              "      height: 32px;\n",
              "      padding: 0 0 0 0;\n",
              "      width: 32px;\n",
              "    }\n",
              "\n",
              "    .colab-df-convert:hover {\n",
              "      background-color: #E2EBFA;\n",
              "      box-shadow: 0px 1px 2px rgba(60, 64, 67, 0.3), 0px 1px 3px 1px rgba(60, 64, 67, 0.15);\n",
              "      fill: #174EA6;\n",
              "    }\n",
              "\n",
              "    [theme=dark] .colab-df-convert {\n",
              "      background-color: #3B4455;\n",
              "      fill: #D2E3FC;\n",
              "    }\n",
              "\n",
              "    [theme=dark] .colab-df-convert:hover {\n",
              "      background-color: #434B5C;\n",
              "      box-shadow: 0px 1px 3px 1px rgba(0, 0, 0, 0.15);\n",
              "      filter: drop-shadow(0px 1px 2px rgba(0, 0, 0, 0.3));\n",
              "      fill: #FFFFFF;\n",
              "    }\n",
              "  </style>\n",
              "\n",
              "      <script>\n",
              "        const buttonEl =\n",
              "          document.querySelector('#df-da87f2dd-24bf-47cb-9927-f5ae1f44ca70 button.colab-df-convert');\n",
              "        buttonEl.style.display =\n",
              "          google.colab.kernel.accessAllowed ? 'block' : 'none';\n",
              "\n",
              "        async function convertToInteractive(key) {\n",
              "          const element = document.querySelector('#df-da87f2dd-24bf-47cb-9927-f5ae1f44ca70');\n",
              "          const dataTable =\n",
              "            await google.colab.kernel.invokeFunction('convertToInteractive',\n",
              "                                                     [key], {});\n",
              "          if (!dataTable) return;\n",
              "\n",
              "          const docLinkHtml = 'Like what you see? Visit the ' +\n",
              "            '<a target=\"_blank\" href=https://colab.research.google.com/notebooks/data_table.ipynb>data table notebook</a>'\n",
              "            + ' to learn more about interactive tables.';\n",
              "          element.innerHTML = '';\n",
              "          dataTable['output_type'] = 'display_data';\n",
              "          await google.colab.output.renderOutput(dataTable, element);\n",
              "          const docLink = document.createElement('div');\n",
              "          docLink.innerHTML = docLinkHtml;\n",
              "          element.appendChild(docLink);\n",
              "        }\n",
              "      </script>\n",
              "    </div>\n",
              "  </div>\n",
              "  "
            ]
          },
          "metadata": {},
          "execution_count": 41
        }
      ],
      "source": [
        "df1.head(2)"
      ]
    },
    {
      "cell_type": "code",
      "source": [
        "df1.columns"
      ],
      "metadata": {
        "id": "iezgH6vxbaeH"
      },
      "execution_count": null,
      "outputs": []
    },
    {
      "cell_type": "code",
      "execution_count": 42,
      "metadata": {
        "id": "AMJVQ3iJo1vB"
      },
      "outputs": [],
      "source": [
        "#aca renombro las columnas porque quiero esten en castellano solo deje las de duration\n",
        "df1 = df1.rename(columns={'rating_x':'clasificacion','NuevoId':'nuevoid','rating_y':'puntuacion','type':'tipo','title':'titulo','cast':'elenco','country':'pais','date_added':'fecha_agregada','release_year':'año_realiacion','duration':'duracion','listed_in':'genero','description':'descripcion'})"
      ]
    },
    {
      "cell_type": "code",
      "execution_count": null,
      "metadata": {
        "id": "z3ll7pFuo1vD",
        "colab": {
          "base_uri": "https://localhost:8080/",
          "height": 349
        },
        "outputId": "b0c75ae0-e7ac-4d4f-89c6-90d9bb8da8c2"
      },
      "outputs": [
        {
          "output_type": "execute_result",
          "data": {
            "text/plain": [
              "  show_id   tipo                titulo      director  \\\n",
              "0      s1  movie   the grand seduction  don mckellar   \n",
              "1      s2  movie  take care good night  girish joshi   \n",
              "\n",
              "                                             elenco    pais fecha_agregada  \\\n",
              "0    brendan gleeson, taylor kitsch, gordon pinsent  canada     2021-03-30   \n",
              "1  mahesh manjrekar, abhay mahajan, sachin khedekar   india     2021-03-30   \n",
              "\n",
              "   año_realiacion clasificacion duracion                genero  \\\n",
              "0            2014             g  113 min         comedy, drama   \n",
              "1            2018           13+  110 min  drama, international   \n",
              "\n",
              "                                         descripcion  duration_int  \\\n",
              "0  a small fishing village must procure a local d...           113   \n",
              "1  a metro family decides to fight a cyber crimin...           110   \n",
              "\n",
              "  duration_type plataforma nuevoid  puntuacion  \n",
              "0           min     amazon     as1    3.467131  \n",
              "1           min     amazon     as2    3.548682  "
            ],
            "text/html": [
              "\n",
              "  <div id=\"df-6e78e759-8b28-490f-b8b3-07c74f70b99a\">\n",
              "    <div class=\"colab-df-container\">\n",
              "      <div>\n",
              "<style scoped>\n",
              "    .dataframe tbody tr th:only-of-type {\n",
              "        vertical-align: middle;\n",
              "    }\n",
              "\n",
              "    .dataframe tbody tr th {\n",
              "        vertical-align: top;\n",
              "    }\n",
              "\n",
              "    .dataframe thead th {\n",
              "        text-align: right;\n",
              "    }\n",
              "</style>\n",
              "<table border=\"1\" class=\"dataframe\">\n",
              "  <thead>\n",
              "    <tr style=\"text-align: right;\">\n",
              "      <th></th>\n",
              "      <th>show_id</th>\n",
              "      <th>tipo</th>\n",
              "      <th>titulo</th>\n",
              "      <th>director</th>\n",
              "      <th>elenco</th>\n",
              "      <th>pais</th>\n",
              "      <th>fecha_agregada</th>\n",
              "      <th>año_realiacion</th>\n",
              "      <th>clasificacion</th>\n",
              "      <th>duracion</th>\n",
              "      <th>genero</th>\n",
              "      <th>descripcion</th>\n",
              "      <th>duration_int</th>\n",
              "      <th>duration_type</th>\n",
              "      <th>plataforma</th>\n",
              "      <th>nuevoid</th>\n",
              "      <th>puntuacion</th>\n",
              "    </tr>\n",
              "  </thead>\n",
              "  <tbody>\n",
              "    <tr>\n",
              "      <th>0</th>\n",
              "      <td>s1</td>\n",
              "      <td>movie</td>\n",
              "      <td>the grand seduction</td>\n",
              "      <td>don mckellar</td>\n",
              "      <td>brendan gleeson, taylor kitsch, gordon pinsent</td>\n",
              "      <td>canada</td>\n",
              "      <td>2021-03-30</td>\n",
              "      <td>2014</td>\n",
              "      <td>g</td>\n",
              "      <td>113 min</td>\n",
              "      <td>comedy, drama</td>\n",
              "      <td>a small fishing village must procure a local d...</td>\n",
              "      <td>113</td>\n",
              "      <td>min</td>\n",
              "      <td>amazon</td>\n",
              "      <td>as1</td>\n",
              "      <td>3.467131</td>\n",
              "    </tr>\n",
              "    <tr>\n",
              "      <th>1</th>\n",
              "      <td>s2</td>\n",
              "      <td>movie</td>\n",
              "      <td>take care good night</td>\n",
              "      <td>girish joshi</td>\n",
              "      <td>mahesh manjrekar, abhay mahajan, sachin khedekar</td>\n",
              "      <td>india</td>\n",
              "      <td>2021-03-30</td>\n",
              "      <td>2018</td>\n",
              "      <td>13+</td>\n",
              "      <td>110 min</td>\n",
              "      <td>drama, international</td>\n",
              "      <td>a metro family decides to fight a cyber crimin...</td>\n",
              "      <td>110</td>\n",
              "      <td>min</td>\n",
              "      <td>amazon</td>\n",
              "      <td>as2</td>\n",
              "      <td>3.548682</td>\n",
              "    </tr>\n",
              "  </tbody>\n",
              "</table>\n",
              "</div>\n",
              "      <button class=\"colab-df-convert\" onclick=\"convertToInteractive('df-6e78e759-8b28-490f-b8b3-07c74f70b99a')\"\n",
              "              title=\"Convert this dataframe to an interactive table.\"\n",
              "              style=\"display:none;\">\n",
              "        \n",
              "  <svg xmlns=\"http://www.w3.org/2000/svg\" height=\"24px\"viewBox=\"0 0 24 24\"\n",
              "       width=\"24px\">\n",
              "    <path d=\"M0 0h24v24H0V0z\" fill=\"none\"/>\n",
              "    <path d=\"M18.56 5.44l.94 2.06.94-2.06 2.06-.94-2.06-.94-.94-2.06-.94 2.06-2.06.94zm-11 1L8.5 8.5l.94-2.06 2.06-.94-2.06-.94L8.5 2.5l-.94 2.06-2.06.94zm10 10l.94 2.06.94-2.06 2.06-.94-2.06-.94-.94-2.06-.94 2.06-2.06.94z\"/><path d=\"M17.41 7.96l-1.37-1.37c-.4-.4-.92-.59-1.43-.59-.52 0-1.04.2-1.43.59L10.3 9.45l-7.72 7.72c-.78.78-.78 2.05 0 2.83L4 21.41c.39.39.9.59 1.41.59.51 0 1.02-.2 1.41-.59l7.78-7.78 2.81-2.81c.8-.78.8-2.07 0-2.86zM5.41 20L4 18.59l7.72-7.72 1.47 1.35L5.41 20z\"/>\n",
              "  </svg>\n",
              "      </button>\n",
              "      \n",
              "  <style>\n",
              "    .colab-df-container {\n",
              "      display:flex;\n",
              "      flex-wrap:wrap;\n",
              "      gap: 12px;\n",
              "    }\n",
              "\n",
              "    .colab-df-convert {\n",
              "      background-color: #E8F0FE;\n",
              "      border: none;\n",
              "      border-radius: 50%;\n",
              "      cursor: pointer;\n",
              "      display: none;\n",
              "      fill: #1967D2;\n",
              "      height: 32px;\n",
              "      padding: 0 0 0 0;\n",
              "      width: 32px;\n",
              "    }\n",
              "\n",
              "    .colab-df-convert:hover {\n",
              "      background-color: #E2EBFA;\n",
              "      box-shadow: 0px 1px 2px rgba(60, 64, 67, 0.3), 0px 1px 3px 1px rgba(60, 64, 67, 0.15);\n",
              "      fill: #174EA6;\n",
              "    }\n",
              "\n",
              "    [theme=dark] .colab-df-convert {\n",
              "      background-color: #3B4455;\n",
              "      fill: #D2E3FC;\n",
              "    }\n",
              "\n",
              "    [theme=dark] .colab-df-convert:hover {\n",
              "      background-color: #434B5C;\n",
              "      box-shadow: 0px 1px 3px 1px rgba(0, 0, 0, 0.15);\n",
              "      filter: drop-shadow(0px 1px 2px rgba(0, 0, 0, 0.3));\n",
              "      fill: #FFFFFF;\n",
              "    }\n",
              "  </style>\n",
              "\n",
              "      <script>\n",
              "        const buttonEl =\n",
              "          document.querySelector('#df-6e78e759-8b28-490f-b8b3-07c74f70b99a button.colab-df-convert');\n",
              "        buttonEl.style.display =\n",
              "          google.colab.kernel.accessAllowed ? 'block' : 'none';\n",
              "\n",
              "        async function convertToInteractive(key) {\n",
              "          const element = document.querySelector('#df-6e78e759-8b28-490f-b8b3-07c74f70b99a');\n",
              "          const dataTable =\n",
              "            await google.colab.kernel.invokeFunction('convertToInteractive',\n",
              "                                                     [key], {});\n",
              "          if (!dataTable) return;\n",
              "\n",
              "          const docLinkHtml = 'Like what you see? Visit the ' +\n",
              "            '<a target=\"_blank\" href=https://colab.research.google.com/notebooks/data_table.ipynb>data table notebook</a>'\n",
              "            + ' to learn more about interactive tables.';\n",
              "          element.innerHTML = '';\n",
              "          dataTable['output_type'] = 'display_data';\n",
              "          await google.colab.output.renderOutput(dataTable, element);\n",
              "          const docLink = document.createElement('div');\n",
              "          docLink.innerHTML = docLinkHtml;\n",
              "          element.appendChild(docLink);\n",
              "        }\n",
              "      </script>\n",
              "    </div>\n",
              "  </div>\n",
              "  "
            ]
          },
          "metadata": {},
          "execution_count": 62
        }
      ],
      "source": [
        "df1.head(2)"
      ]
    },
    {
      "cell_type": "code",
      "execution_count": 43,
      "metadata": {
        "id": "xar-NSYCo1vE"
      },
      "outputs": [],
      "source": [
        "df1.to_csv('df1.csv', sep=',', encoding='utf-8', index=False)"
      ]
    },
    {
      "cell_type": "code",
      "source": [
        "#para guardar los archivos en la compu\n",
        "from google.colab import files\n",
        "files.download('df1.csv')\n"
      ],
      "metadata": {
        "colab": {
          "base_uri": "https://localhost:8080/",
          "height": 17
        },
        "id": "AmSXhb3TwGXr",
        "outputId": "07fc6742-8c37-4102-9d21-55173495ff24"
      },
      "execution_count": 44,
      "outputs": [
        {
          "output_type": "display_data",
          "data": {
            "text/plain": [
              "<IPython.core.display.Javascript object>"
            ],
            "application/javascript": [
              "\n",
              "    async function download(id, filename, size) {\n",
              "      if (!google.colab.kernel.accessAllowed) {\n",
              "        return;\n",
              "      }\n",
              "      const div = document.createElement('div');\n",
              "      const label = document.createElement('label');\n",
              "      label.textContent = `Downloading \"${filename}\": `;\n",
              "      div.appendChild(label);\n",
              "      const progress = document.createElement('progress');\n",
              "      progress.max = size;\n",
              "      div.appendChild(progress);\n",
              "      document.body.appendChild(div);\n",
              "\n",
              "      const buffers = [];\n",
              "      let downloaded = 0;\n",
              "\n",
              "      const channel = await google.colab.kernel.comms.open(id);\n",
              "      // Send a message to notify the kernel that we're ready.\n",
              "      channel.send({})\n",
              "\n",
              "      for await (const message of channel.messages) {\n",
              "        // Send a message to notify the kernel that we're ready.\n",
              "        channel.send({})\n",
              "        if (message.buffers) {\n",
              "          for (const buffer of message.buffers) {\n",
              "            buffers.push(buffer);\n",
              "            downloaded += buffer.byteLength;\n",
              "            progress.value = downloaded;\n",
              "          }\n",
              "        }\n",
              "      }\n",
              "      const blob = new Blob(buffers, {type: 'application/binary'});\n",
              "      const a = document.createElement('a');\n",
              "      a.href = window.URL.createObjectURL(blob);\n",
              "      a.download = filename;\n",
              "      div.appendChild(a);\n",
              "      a.click();\n",
              "      div.remove();\n",
              "    }\n",
              "  "
            ]
          },
          "metadata": {}
        },
        {
          "output_type": "display_data",
          "data": {
            "text/plain": [
              "<IPython.core.display.Javascript object>"
            ],
            "application/javascript": [
              "download(\"download_335e9323-c93d-4962-a889-e055eee314f8\", \"df1.csv\", 9769655)"
            ]
          },
          "metadata": {}
        }
      ]
    },
    {
      "cell_type": "markdown",
      "metadata": {
        "id": "F_CZSYJXo1vH"
      },
      "source": [
        "Desarrolo de la FASTAPI\n",
        "  \n",
        "  1)Película (sólo película, no serie, etc) con mayor duración según año, plataforma y tipo de duración. La función debe llamarse get_max_duration(year, platform, duration_type) y debe devolver sólo el string del nombre de la película.\n",
        "\n",
        "  primero cree las funciones en colab para probarlas y luego pasarlas a Fastapi.\n",
        "\n"
      ]
    },
    {
      "cell_type": "code",
      "source": [
        "df1 = pd.read_csv('/content/drive/MyDrive/PI_1.2/Data1.2/df1.csv')"
      ],
      "metadata": {
        "id": "b9vh9qSuDiqn"
      },
      "execution_count": 3,
      "outputs": []
    },
    {
      "cell_type": "code",
      "execution_count": null,
      "metadata": {
        "id": "fmuB3mVyo1vM"
      },
      "outputs": [],
      "source": [
        "def get_max_duration(year, platform, duration_type):\n",
        "    # Filtramos las películas del año, plataforma y tipo de duración específicos\n",
        "    filtered_df = df1[(df1['tipo'] == 'movie') & (df1['año_realiacion'] == year) & \n",
        "                            (df1['plataforma'] == platform) & (df1['duration_type'] == duration_type)]\n",
        "    \n",
        "    # Ordenamos por duración de mayor a menor y seleccionamos el primer título (el de mayor duración)\n",
        "    max_duration_movie = filtered_df.sort_values(by='duration_int', ascending=False).iloc[0]['titulo']\n",
        "    return max_duration_movie\n"
      ]
    },
    {
      "cell_type": "code",
      "execution_count": null,
      "metadata": {
        "colab": {
          "base_uri": "https://localhost:8080/",
          "height": 35
        },
        "id": "ZpSIhITmo1vN",
        "outputId": "7bcb4ee0-40b9-4afd-8bd3-68add9c14d77"
      },
      "outputs": [
        {
          "output_type": "execute_result",
          "data": {
            "text/plain": [
              "'cloud atlas'"
            ],
            "application/vnd.google.colaboratory.intrinsic+json": {
              "type": "string"
            }
          },
          "metadata": {},
          "execution_count": 7
        }
      ],
      "source": [
        "get_max_duration(2012,'netflix','min')\n",
        "\n"
      ]
    },
    {
      "cell_type": "markdown",
      "metadata": {
        "id": "ZmAvnYoNo1vO"
      },
      "source": [
        "2)Cantidad de películas (sólo películas, no series, etc) según plataforma, con un puntaje mayor a XX en determinado año. La función debe llamarse get_score_count(platform, scored, year) y debe devolver un int, con el total de películas que cumplen lo solicitado."
      ]
    },
    {
      "cell_type": "code",
      "execution_count": null,
      "metadata": {
        "id": "ZGA9htsxo1vQ"
      },
      "outputs": [],
      "source": [
        "def get_score_count(platform, scored, year):\n",
        "    # filtrar las películas según plataforma, puntaje y año\n",
        "    pelis_por_puntaje = df1[(df1[\"plataforma\"] == platform) & (df1[\"puntuacion\"] >= scored) & (df1[\"tipo\"] == \"movie\") & (df1[\"año_realiacion\"] == year)]\n",
        "    \n",
        "    # contar la cantidad de películas\n",
        "    count = len(pelis_por_puntaje)\n",
        "    \n",
        "    return count\n"
      ]
    },
    {
      "cell_type": "code",
      "execution_count": null,
      "metadata": {
        "colab": {
          "base_uri": "https://localhost:8080/"
        },
        "id": "tTDcypvto1vR",
        "outputId": "44de631a-f63a-482f-f56b-b0e6c5552c5c"
      },
      "outputs": [
        {
          "output_type": "stream",
          "name": "stdout",
          "text": [
            "34\n"
          ]
        }
      ],
      "source": [
        "count = get_score_count(\"disney\", 1.45, 2014)\n",
        "print(count)\n"
      ]
    },
    {
      "cell_type": "markdown",
      "source": [
        "3)Cantidad de películas (sólo películas, no series, etc) según plataforma. La función debe llamarse get_count_platform(platform) y debe devolver un int, con el número total de películas de esa plataforma. Las plataformas deben llamarse amazon, netflix, hulu, disney."
      ],
      "metadata": {
        "id": "qI4bQ8XT5f8o"
      }
    },
    {
      "cell_type": "code",
      "source": [
        "def get_count_platform(platform):\n",
        "    # Filtrar solo películas\n",
        "    df_movies = df1.loc[df1['tipo'] == 'movie']\n",
        "\n",
        "    # Filtrar por plataforma\n",
        "    df_filtered = df_movies.query(\"plataforma == @platform\")\n",
        "\n",
        "    # Contar el número de películas resultantes\n",
        "    count = len(df_filtered)\n",
        "\n",
        "    return count\n"
      ],
      "metadata": {
        "id": "2iYf7eXZ6qH5"
      },
      "execution_count": null,
      "outputs": []
    },
    {
      "cell_type": "code",
      "source": [
        "count = get_count_platform('hulu')\n",
        "count\n"
      ],
      "metadata": {
        "colab": {
          "base_uri": "https://localhost:8080/"
        },
        "id": "Sh0n_-AM6wm0",
        "outputId": "5d9242fd-c7b9-482b-e17a-ec095c1629ee"
      },
      "execution_count": null,
      "outputs": [
        {
          "output_type": "execute_result",
          "data": {
            "text/plain": [
              "1484"
            ]
          },
          "metadata": {},
          "execution_count": 86
        }
      ]
    },
    {
      "cell_type": "markdown",
      "source": [
        "4)Actor que más se repite según plataforma y año. La función debe llamarse get_actor(platform, year) y debe devolver sólo el string con el nombre del actor que más se repite según la plataforma y el año dado."
      ],
      "metadata": {
        "id": "6U96LRrF72dW"
      }
    },
    {
      "cell_type": "code",
      "source": [
        "#funciona aqui pero no en API\n",
        "#def get_actor(plataforma: str, anio: int):\n",
        "    df_filtered = df1[(df1[\"plataforma\"] == plataforma) & (df1[\"año_realiacion\"] == anio)]\n",
        "\n",
        "    # contar la cantidad de veces que aparece cada actor\n",
        "    actor_count = df_filtered[\"elenco\"].str.split(\", \", expand=True).stack().value_counts()\n",
        "\n",
        "    # obtener el actor que más se repite\n",
        "    actor_most_common = actor_count.idxmax()\n",
        "    veces = actor_count.max()\n",
        "    return actor_count #actor_most_common, veces"
      ],
      "metadata": {
        "id": "7eqAOTFGg3CR"
      },
      "execution_count": null,
      "outputs": []
    },
    {
      "cell_type": "code",
      "source": [
        "#esta use en API, pero no funciona las apariciones\n",
        "# Separar los nombres de los actores en filas separadas\n",
        "df1 = df1.assign(elenco=df1['elenco'].str.split(','))\n",
        "\n",
        "# Convertir la columna \"elenco\" en filas separadas\n",
        "df1 = df1.explode('elenco')\n",
        "\n",
        "# Contar cuántas veces aparece cada actor en la columna \"elenco\"\n",
        "actor_counts = df1['elenco'].value_counts()\n",
        "\n",
        "# Encontrar el actor que aparece con mayor frecuencia\n",
        "most_frequent_actor = actor_counts.idxmax()\n",
        "\n",
        "# Encontrar la fila correspondiente en el DataFrame original\n",
        "most_frequent_row = df1.loc[df1['elenco'] == most_frequent_actor]\n",
        "\n",
        "# Imprimir el resultado\n",
        "print(f\"El actor que más se repite es '{most_frequent_actor}', y aparece {len(most_frequent_row)} veces.\")\n"
      ],
      "metadata": {
        "colab": {
          "base_uri": "https://localhost:8080/"
        },
        "id": "f1TbLtkpgDPD",
        "outputId": "a14ec491-f4c7-4f90-b0e2-3e49ff866775"
      },
      "execution_count": null,
      "outputs": [
        {
          "output_type": "stream",
          "name": "stdout",
          "text": [
            "El actor que más se repite es ' anupam kher', y aparece en 56 filas.\n"
          ]
        }
      ]
    },
    {
      "cell_type": "markdown",
      "source": [
        "5)La cantidad de contenidos/productos (todo lo disponible en streaming) que se publicó por país y año. La función debe llamarse prod_per_county(tipo,pais,anio) deberia devolver la cantidada de contenidos/productos segun el tipo de contenido (pelicula,serie) por pais y año en un diccionario con las variables llamadas 'pais' (nombre del pais), 'anio' (año), 'pelicula' (cantidad de contenidos/productos)."
      ],
      "metadata": {
        "id": "Js9b6lEijRNX"
      }
    },
    {
      "cell_type": "code",
      "source": [
        "#este funciono api\n",
        "def prodper_country(tipo, pais, anio):\n",
        "    # Leer el DataFrame\n",
        "    #df1 = pd.read_csv('nombre_del_archivo.csv') # reemplazar por el nombre del archivo\n",
        "    \n",
        "    # Filtrar por tipo, país y año\n",
        "    df_filt = df1[(df1['tipo'] == tipo) & (df1['pais'] == pais) & (df1['año_realiacion'] == anio)]\n",
        "    \n",
        "    # Contar la cantidad de productos\n",
        "    num_prods = len(df_filt)\n",
        "    \n",
        "    # Crear un diccionario con el resultado\n",
        "    resultado = {'pais': pais, 'anio': anio, 'pelicula': num_prods} \n",
        "    return resultado\n"
      ],
      "metadata": {
        "id": "ZMY1zIunpQrC"
      },
      "execution_count": null,
      "outputs": []
    },
    {
      "cell_type": "code",
      "source": [
        "prodper_country('movie','canada',2020)"
      ],
      "metadata": {
        "colab": {
          "base_uri": "https://localhost:8080/"
        },
        "id": "WpZPcvhIo8yM",
        "outputId": "28460e1a-f481-4bf3-9a03-f9682cdb0eab"
      },
      "execution_count": null,
      "outputs": [
        {
          "output_type": "execute_result",
          "data": {
            "text/plain": [
              "{'pais': 'canada', 'anio': 2020, 'pelicula': 120}"
            ]
          },
          "metadata": {},
          "execution_count": 28
        }
      ]
    },
    {
      "cell_type": "code",
      "source": [
        "#no funciona en api\n",
        "def prod_per_country(tipo, pais, anio):\n",
        "    # Filtrar el DataFrame\n",
        "    df_filt = df1[(df1['tipo'] == tipo) & (df1['pais'] == pais) & (df1['año_realiacion'] == anio)]\n",
        "    \n",
        "    # Agrupar por país y año y contar la cantidad de filas\n",
        "    count = df_filt.groupby(['pais', 'año_realiacion']).size().reset_index(name=f\"{tipo}\")\n",
        "    \n",
        "    # Crear un diccionario con los resultados\n",
        "    result = count[['pais', 'año_realiacion', f\"{tipo}\"]].to_dict('records')\n",
        "    \n",
        "    return result\n"
      ],
      "metadata": {
        "id": "YEpEwsABiKcm"
      },
      "execution_count": null,
      "outputs": []
    },
    {
      "cell_type": "code",
      "source": [
        "b= prod_per_country('tv show','france',2020)\n",
        "b\n"
      ],
      "metadata": {
        "id": "mNWEMIRBiSz3"
      },
      "execution_count": null,
      "outputs": []
    },
    {
      "cell_type": "markdown",
      "source": [
        "6)La cantidad total de contenidos/productos (todo lo disponible en streaming, series, peliculas, etc) según el rating de audiencia dado (para que publico fue clasificada la pelicula). La función debe llamarse get_contents(rating) y debe devolver el numero total de contenido con ese rating de audiencias."
      ],
      "metadata": {
        "id": "7aRYZtyMjZ4R"
      }
    },
    {
      "cell_type": "code",
      "source": [
        "#esta funciona en api\n",
        "def getcontents(rating):\n",
        "    # Contar cuántas veces aparece cada rating de audiencia\n",
        "    rating_counts = df1['clasificacion'].value_counts()\n",
        "    \n",
        "    # Filtrar el DataFrame por el rating de audiencia deseado\n",
        "    filtered_df = df1[df1['clasificacion'] == rating]\n",
        "    \n",
        "    # Contar cuántas filas quedan\n",
        "    num_contents = len(filtered_df)\n",
        "    \n",
        "    # Devolver el número total de contenido con ese rating de audiencia\n",
        "    return num_contents\n"
      ],
      "metadata": {
        "id": "iIwqRyPJuffC"
      },
      "execution_count": null,
      "outputs": []
    },
    {
      "cell_type": "code",
      "source": [
        "getcontents('18+')"
      ],
      "metadata": {
        "colab": {
          "base_uri": "https://localhost:8080/"
        },
        "id": "bV2BTm4LupS3",
        "outputId": "5c7b06e7-8238-437e-bcfa-dc6ffa33fd88"
      },
      "execution_count": null,
      "outputs": [
        {
          "output_type": "execute_result",
          "data": {
            "text/plain": [
              "6113"
            ]
          },
          "metadata": {},
          "execution_count": 31
        }
      ]
    },
    {
      "cell_type": "code",
      "source": [
        "def get_contents(rating):\n",
        "    # Obtener la cantidad de contenidos/productos por rating de audiencia\n",
        "    count_by_rating = df1['clasificacion'].value_counts()\n",
        "    \n",
        "    # Obtener la cantidad correspondiente al rating especificado en la función\n",
        "    count = count_by_rating[rating]\n",
        "    \n",
        "    return count\n"
      ],
      "metadata": {
        "id": "GbMsSxUfj_Wo"
      },
      "execution_count": null,
      "outputs": []
    },
    {
      "cell_type": "code",
      "source": [
        "d = get_contents('g')\n",
        "d"
      ],
      "metadata": {
        "colab": {
          "base_uri": "https://localhost:8080/"
        },
        "id": "AkrGwZ07oLZF",
        "outputId": "aa60fb9f-e615-40ae-bd7d-ef5bdc494622"
      },
      "execution_count": null,
      "outputs": [
        {
          "output_type": "execute_result",
          "data": {
            "text/plain": [
              "932"
            ]
          },
          "metadata": {},
          "execution_count": 48
        }
      ]
    }
  ],
  "metadata": {
    "kernelspec": {
      "display_name": "Python 3",
      "language": "python",
      "name": "python3"
    },
    "language_info": {
      "codemirror_mode": {
        "name": "ipython",
        "version": 3
      },
      "file_extension": ".py",
      "mimetype": "text/x-python",
      "name": "python",
      "nbconvert_exporter": "python",
      "pygments_lexer": "ipython3",
      "version": "3.10.10"
    },
    "orig_nbformat": 4,
    "colab": {
      "provenance": [],
      "include_colab_link": true
    }
  },
  "nbformat": 4,
  "nbformat_minor": 0
}